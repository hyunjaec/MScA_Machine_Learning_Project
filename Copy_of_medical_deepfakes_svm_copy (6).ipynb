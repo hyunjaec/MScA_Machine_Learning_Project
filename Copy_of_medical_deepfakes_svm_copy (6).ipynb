{
  "cells": [
    {
      "cell_type": "markdown",
      "metadata": {
        "id": "view-in-github"
      },
      "source": [
        "<a href=\"https://colab.research.google.com/github/hyunjaec/MScA_Machine_Learning_Project/blob/main/medical_deepfakes_svm.ipynb\" target=\"_parent\"><img src=\"https://colab.research.google.com/assets/colab-badge.svg\" alt=\"Open In Colab\"/></a>"
      ]
    },
    {
      "cell_type": "code",
      "execution_count": 1,
      "metadata": {
        "colab": {
          "base_uri": "https://localhost:8080/"
        },
        "id": "GjCTID7ea9fx",
        "outputId": "9c904014-7978-42ec-c791-7359e1a4e10d"
      },
      "outputs": [
        {
          "output_type": "stream",
          "name": "stdout",
          "text": [
            "Looking in indexes: https://pypi.org/simple, https://us-python.pkg.dev/colab-wheels/public/simple/\n",
            "Collecting pydicom\n",
            "  Downloading pydicom-2.3.0-py3-none-any.whl (2.0 MB)\n",
            "\u001b[K     |████████████████████████████████| 2.0 MB 4.9 MB/s \n",
            "\u001b[?25hInstalling collected packages: pydicom\n",
            "Successfully installed pydicom-2.3.0\n"
          ]
        }
      ],
      "source": [
        "import pandas as pd \n",
        "import numpy as np \n",
        "import os \n",
        "import seaborn as sns\n",
        "try:\n",
        "  import pydicom\n",
        "except:\n",
        "  ! pip install pydicom\n",
        "  import pydicom\n",
        "import scipy.ndimage"
      ]
    },
    {
      "cell_type": "code",
      "execution_count": 2,
      "metadata": {
        "id": "UhpK6XXdayjh",
        "colab": {
          "base_uri": "https://localhost:8080/"
        },
        "outputId": "9211f1e7-3137-4ef4-f0c4-942168cb0d66"
      },
      "outputs": [
        {
          "output_type": "stream",
          "name": "stdout",
          "text": [
            "Mounted at /content/drive\n"
          ]
        }
      ],
      "source": [
        "from google.colab import drive\n",
        "drive.mount('/content/drive')"
      ]
    },
    {
      "cell_type": "code",
      "execution_count": 3,
      "metadata": {
        "id": "l4MZgRxGbIz4"
      },
      "outputs": [],
      "source": [
        "def load_dicom(path2scan_dir):\n",
        "    dicom_folder = path2scan_dir\n",
        "    dcms = os.listdir(dicom_folder)\n",
        "    first_slice_data = pydicom.read_file(os.path.join(path2scan_dir,dcms[0]))\n",
        "    first_slice = first_slice_data.pixel_array\n",
        "    orientation = np.transpose(first_slice_data.ImageOrientationPatient) #zyx format\n",
        "    spacing_xy = np.array(first_slice_data.PixelSpacing, dtype=float)\n",
        "    spacing_z = np.float(first_slice_data.SliceThickness)\n",
        "    spacing = np.array([spacing_z, spacing_xy[1], spacing_xy[0]]) #zyx format\n",
        "\n",
        "    scan = np.zeros((len(dcms),first_slice.shape[0],first_slice.shape[1]))\n",
        "    raw_slices=[]\n",
        "    indexes = []\n",
        "    for dcm in dcms:\n",
        "        slice_data = pydicom.read_file(os.path.join(dicom_folder,dcm))\n",
        "        slice_data.filename = dcm\n",
        "        raw_slices.append(slice_data)\n",
        "        indexes.append(float(slice_data.ImagePositionPatient[2]))\n",
        "    indexes = np.array(indexes,dtype=float)\n",
        "\n",
        "    raw_slices = [x for _, x in sorted(zip(indexes, raw_slices))]\n",
        "    origin = np.array(raw_slices[0][0x00200032].value) #origin is assumed to be the image location of the first slice\n",
        "    if origin is None:\n",
        "        origin = np.zeros(3)\n",
        "    else:\n",
        "        origin = np.array([origin[2],origin[1],origin[0]]) #change from x,y,z to z,y,x\n",
        "\n",
        "    for i, slice in enumerate(raw_slices):\n",
        "        scan[i, :, :] = slice.pixel_array\n",
        "    return scan, spacing, orientation, origin, raw_slices"
      ]
    },
    {
      "cell_type": "code",
      "execution_count": 4,
      "metadata": {
        "id": "vGsmqYTwcGZ1"
      },
      "outputs": [],
      "source": [
        "df = pd.read_csv('/content/drive/My Drive/data/Tampered Scans/labels_exp1.csv')  \n"
      ]
    },
    {
      "cell_type": "markdown",
      "metadata": {
        "id": "4H8uwf2RLX1M"
      },
      "source": [
        "Load the label files and cut and save images by coordinates\n"
      ]
    },
    {
      "cell_type": "code",
      "execution_count": 5,
      "metadata": {
        "id": "WdsVYBl-cNHQ"
      },
      "outputs": [],
      "source": [
        "def cutCube(X, center, shape, padd=0): #center is a 3d coord (zyx)\n",
        "    center = center.astype(int)\n",
        "    hlz = np.round(shape[0] / 2)\n",
        "    hly = np.round(shape[1] / 2)\n",
        "    hlx = np.round(shape[2] / 2)\n",
        "\n",
        "    #add padding if out of bounds\n",
        "    if ((center - np.array([hlz,hly,hlx])) < 0).any() or (\n",
        "        (center + np.array([hlz,hly,hlx]) + 1) > np.array(X.shape)).any():  # if cropping is out of bounds, add padding\n",
        "        try:\n",
        "          np.ones(np.array(X.shape) + shape * 2)\n",
        "        except:\n",
        "          return \"No\"\n",
        "        Xn = np.ones(np.array(X.shape) + shape * 2) * padd\n",
        "        Xn[shape[0]:(shape[0] + X.shape[0]), shape[1]:(shape[1] + X.shape[1]), shape[2]:(shape[2] + X.shape[2])] = X\n",
        "        centern = center + shape\n",
        "        cube = Xn[int(centern[0] - hlz):int(centern[0] - hlz + shape[0]),\n",
        "               int(centern[1] - hly):int(centern[1] - hly + shape[1]),\n",
        "               int(centern[2] - hlx):int(centern[2] - hlx + shape[2])]\n",
        "        return np.copy(cube)\n",
        "    else:\n",
        "        cube = X[int(center[0] - hlz):int(center[0] - hlz + shape[0]), int(center[1] - hly):int(center[1] - hly + shape[1]),\n",
        "               int(center[2] - hlx):int(center[2] - hlx + shape[2])]\n",
        "        return np.copy(cube)\n"
      ]
    },
    {
      "cell_type": "code",
      "execution_count": 6,
      "metadata": {
        "id": "G8KA-d-BlJ32"
      },
      "outputs": [],
      "source": [
        "import os\n",
        "dir = \"/content/drive/My Drive/data/Tampered Scans/Experiment 1 - Blind/\" \n",
        "r=[]\n",
        "for root, dirs, files in os.walk(dir):\n",
        "  r.append(root)"
      ]
    },
    {
      "cell_type": "code",
      "execution_count": 7,
      "metadata": {
        "id": "r_Jb7FvcLmHI",
        "colab": {
          "base_uri": "https://localhost:8080/",
          "height": 206
        },
        "outputId": "62c28479-9ab7-4af4-fc95-82cd4bee5730"
      },
      "outputs": [
        {
          "output_type": "execute_result",
          "data": {
            "text/plain": [
              "  type  uuid  slice    x    y  detected  detected_diam  label\n",
              "0   FB  1280    100  323  381     False            0.0   True\n",
              "1   FB  1009     76  354  288     False            0.0   True\n",
              "2   FB  7794     79  163  191     False            0.0   True\n",
              "3   FB  7794     94  338  243     False            0.0   True\n",
              "4   FB  2997     45  156  135     False            0.0   True"
            ],
            "text/html": [
              "\n",
              "  <div id=\"df-e4307aef-9587-4964-8a7d-890b8da8b686\">\n",
              "    <div class=\"colab-df-container\">\n",
              "      <div>\n",
              "<style scoped>\n",
              "    .dataframe tbody tr th:only-of-type {\n",
              "        vertical-align: middle;\n",
              "    }\n",
              "\n",
              "    .dataframe tbody tr th {\n",
              "        vertical-align: top;\n",
              "    }\n",
              "\n",
              "    .dataframe thead th {\n",
              "        text-align: right;\n",
              "    }\n",
              "</style>\n",
              "<table border=\"1\" class=\"dataframe\">\n",
              "  <thead>\n",
              "    <tr style=\"text-align: right;\">\n",
              "      <th></th>\n",
              "      <th>type</th>\n",
              "      <th>uuid</th>\n",
              "      <th>slice</th>\n",
              "      <th>x</th>\n",
              "      <th>y</th>\n",
              "      <th>detected</th>\n",
              "      <th>detected_diam</th>\n",
              "      <th>label</th>\n",
              "    </tr>\n",
              "  </thead>\n",
              "  <tbody>\n",
              "    <tr>\n",
              "      <th>0</th>\n",
              "      <td>FB</td>\n",
              "      <td>1280</td>\n",
              "      <td>100</td>\n",
              "      <td>323</td>\n",
              "      <td>381</td>\n",
              "      <td>False</td>\n",
              "      <td>0.0</td>\n",
              "      <td>True</td>\n",
              "    </tr>\n",
              "    <tr>\n",
              "      <th>1</th>\n",
              "      <td>FB</td>\n",
              "      <td>1009</td>\n",
              "      <td>76</td>\n",
              "      <td>354</td>\n",
              "      <td>288</td>\n",
              "      <td>False</td>\n",
              "      <td>0.0</td>\n",
              "      <td>True</td>\n",
              "    </tr>\n",
              "    <tr>\n",
              "      <th>2</th>\n",
              "      <td>FB</td>\n",
              "      <td>7794</td>\n",
              "      <td>79</td>\n",
              "      <td>163</td>\n",
              "      <td>191</td>\n",
              "      <td>False</td>\n",
              "      <td>0.0</td>\n",
              "      <td>True</td>\n",
              "    </tr>\n",
              "    <tr>\n",
              "      <th>3</th>\n",
              "      <td>FB</td>\n",
              "      <td>7794</td>\n",
              "      <td>94</td>\n",
              "      <td>338</td>\n",
              "      <td>243</td>\n",
              "      <td>False</td>\n",
              "      <td>0.0</td>\n",
              "      <td>True</td>\n",
              "    </tr>\n",
              "    <tr>\n",
              "      <th>4</th>\n",
              "      <td>FB</td>\n",
              "      <td>2997</td>\n",
              "      <td>45</td>\n",
              "      <td>156</td>\n",
              "      <td>135</td>\n",
              "      <td>False</td>\n",
              "      <td>0.0</td>\n",
              "      <td>True</td>\n",
              "    </tr>\n",
              "  </tbody>\n",
              "</table>\n",
              "</div>\n",
              "      <button class=\"colab-df-convert\" onclick=\"convertToInteractive('df-e4307aef-9587-4964-8a7d-890b8da8b686')\"\n",
              "              title=\"Convert this dataframe to an interactive table.\"\n",
              "              style=\"display:none;\">\n",
              "        \n",
              "  <svg xmlns=\"http://www.w3.org/2000/svg\" height=\"24px\"viewBox=\"0 0 24 24\"\n",
              "       width=\"24px\">\n",
              "    <path d=\"M0 0h24v24H0V0z\" fill=\"none\"/>\n",
              "    <path d=\"M18.56 5.44l.94 2.06.94-2.06 2.06-.94-2.06-.94-.94-2.06-.94 2.06-2.06.94zm-11 1L8.5 8.5l.94-2.06 2.06-.94-2.06-.94L8.5 2.5l-.94 2.06-2.06.94zm10 10l.94 2.06.94-2.06 2.06-.94-2.06-.94-.94-2.06-.94 2.06-2.06.94z\"/><path d=\"M17.41 7.96l-1.37-1.37c-.4-.4-.92-.59-1.43-.59-.52 0-1.04.2-1.43.59L10.3 9.45l-7.72 7.72c-.78.78-.78 2.05 0 2.83L4 21.41c.39.39.9.59 1.41.59.51 0 1.02-.2 1.41-.59l7.78-7.78 2.81-2.81c.8-.78.8-2.07 0-2.86zM5.41 20L4 18.59l7.72-7.72 1.47 1.35L5.41 20z\"/>\n",
              "  </svg>\n",
              "      </button>\n",
              "      \n",
              "  <style>\n",
              "    .colab-df-container {\n",
              "      display:flex;\n",
              "      flex-wrap:wrap;\n",
              "      gap: 12px;\n",
              "    }\n",
              "\n",
              "    .colab-df-convert {\n",
              "      background-color: #E8F0FE;\n",
              "      border: none;\n",
              "      border-radius: 50%;\n",
              "      cursor: pointer;\n",
              "      display: none;\n",
              "      fill: #1967D2;\n",
              "      height: 32px;\n",
              "      padding: 0 0 0 0;\n",
              "      width: 32px;\n",
              "    }\n",
              "\n",
              "    .colab-df-convert:hover {\n",
              "      background-color: #E2EBFA;\n",
              "      box-shadow: 0px 1px 2px rgba(60, 64, 67, 0.3), 0px 1px 3px 1px rgba(60, 64, 67, 0.15);\n",
              "      fill: #174EA6;\n",
              "    }\n",
              "\n",
              "    [theme=dark] .colab-df-convert {\n",
              "      background-color: #3B4455;\n",
              "      fill: #D2E3FC;\n",
              "    }\n",
              "\n",
              "    [theme=dark] .colab-df-convert:hover {\n",
              "      background-color: #434B5C;\n",
              "      box-shadow: 0px 1px 3px 1px rgba(0, 0, 0, 0.15);\n",
              "      filter: drop-shadow(0px 1px 2px rgba(0, 0, 0, 0.3));\n",
              "      fill: #FFFFFF;\n",
              "    }\n",
              "  </style>\n",
              "\n",
              "      <script>\n",
              "        const buttonEl =\n",
              "          document.querySelector('#df-e4307aef-9587-4964-8a7d-890b8da8b686 button.colab-df-convert');\n",
              "        buttonEl.style.display =\n",
              "          google.colab.kernel.accessAllowed ? 'block' : 'none';\n",
              "\n",
              "        async function convertToInteractive(key) {\n",
              "          const element = document.querySelector('#df-e4307aef-9587-4964-8a7d-890b8da8b686');\n",
              "          const dataTable =\n",
              "            await google.colab.kernel.invokeFunction('convertToInteractive',\n",
              "                                                     [key], {});\n",
              "          if (!dataTable) return;\n",
              "\n",
              "          const docLinkHtml = 'Like what you see? Visit the ' +\n",
              "            '<a target=\"_blank\" href=https://colab.research.google.com/notebooks/data_table.ipynb>data table notebook</a>'\n",
              "            + ' to learn more about interactive tables.';\n",
              "          element.innerHTML = '';\n",
              "          dataTable['output_type'] = 'display_data';\n",
              "          await google.colab.output.renderOutput(dataTable, element);\n",
              "          const docLink = document.createElement('div');\n",
              "          docLink.innerHTML = docLinkHtml;\n",
              "          element.appendChild(docLink);\n",
              "        }\n",
              "      </script>\n",
              "    </div>\n",
              "  </div>\n",
              "  "
            ]
          },
          "metadata": {},
          "execution_count": 7
        }
      ],
      "source": [
        "#Load label files\n",
        "label_df1 = pd.read_csv('/content/drive/My Drive/data/Results/Response EXP1 - Reviewer 1_instances.csv') \n",
        "label_df2 = pd.read_csv('/content/drive/My Drive/data/Results/Response EXP1 - Reviewer 2_instances.csv')\n",
        "label_df3 = pd.read_csv('/content/drive/My Drive/data/Results/Response EXP1 - Reviewer 3_instances.csv')\n",
        "\n",
        "preds = pd.concat([label_df1[['label']], label_df2[['label']], label_df3[['label']]], axis = 1)\n",
        "preds.columns = ['label1','label2','label3']\n",
        "\n",
        "def final_label(row):\n",
        "  row.label1 = int(row.label1)\n",
        "  row.label2 = int(row.label2)\n",
        "  row.label3 = int(row.label3)\n",
        "  if row.label1 == 0:\n",
        "        row.label1 == -1\n",
        "  if row.label2 == 0:\n",
        "        row.label2 == -1\n",
        "  if row.label3 == 0:\n",
        "        row.label3 == -1\n",
        "  if row.label1 == row.label2 == row.label3:\n",
        "    return bool(row.label1)\n",
        "  else:\n",
        "    return bool(np.sign((row.label1*row.confidence1 + row.label1*row.confidence2 + row.label1*row.confidence3) / 3))\n",
        "\n",
        "preds['label'] = preds.apply(lambda row: final_label(row), axis = 1)\n",
        "label_df = pd.concat([label_df1.drop('label', axis = 1), preds['label']], axis = 1)\n",
        "label_df.head()"
      ]
    },
    {
      "cell_type": "code",
      "execution_count": 8,
      "metadata": {
        "id": "19HkTZtcwvQa"
      },
      "outputs": [],
      "source": [
        "df_true = label_df.loc[label_df['label']==True]\n",
        "df_false = label_df.loc[label_df['label']==False]"
      ]
    },
    {
      "cell_type": "code",
      "execution_count": 9,
      "metadata": {
        "id": "hpfKjEaH53Oj"
      },
      "outputs": [],
      "source": [
        "df_true = df_true.reset_index()\n",
        "df_false = df_false.reset_index()"
      ]
    },
    {
      "cell_type": "code",
      "execution_count": 10,
      "metadata": {
        "id": "kcEebwwlnxcT"
      },
      "outputs": [],
      "source": [
        "def image_cut_processing(df):\n",
        "  cut_cubes = []\n",
        "  for i in range(0,len(df)):\n",
        "    scan, spacing, orientation, origin, raw_slices = load_dicom('/content/drive/My Drive/data/Tampered Scans/Experiment 1 - Blind/'+str(df.uuid[i]))\n",
        "    uuid_row = df.loc[df['uuid'] == df.uuid[i]]\n",
        "    for j in range(len(uuid_row)):\n",
        "      location = uuid_row.iloc[j]\n",
        "      coord = np.array([location['slice'],location['y'],location['x']])\n",
        "      if (cutCube(scan,coord,(64,64,64))) != \"No\":\n",
        "        cut_cubes.append(cutCube(scan,coord,(64,64,64)))\n",
        "  return cut_cubes\n",
        "  "
      ]
    },
    {
      "cell_type": "code",
      "execution_count": 11,
      "metadata": {
        "id": "PYK_F6HcoLnl",
        "colab": {
          "base_uri": "https://localhost:8080/"
        },
        "outputId": "2294bd9d-daf1-4b6b-db98-5b55bd1e7782"
      },
      "outputs": [
        {
          "output_type": "stream",
          "name": "stderr",
          "text": [
            "/usr/local/lib/python3.7/dist-packages/ipykernel_launcher.py:8: DeprecationWarning: `np.float` is a deprecated alias for the builtin `float`. To silence this warning, use `float` by itself. Doing this will not modify any behavior and is safe. If you specifically wanted the numpy scalar type, use `np.float64` here.\n",
            "Deprecated in NumPy 1.20; for more details and guidance: https://numpy.org/devdocs/release/1.20.0-notes.html#deprecations\n",
            "  \n",
            "/usr/local/lib/python3.7/dist-packages/ipykernel_launcher.py:9: FutureWarning: elementwise comparison failed; returning scalar instead, but in the future will perform elementwise comparison\n",
            "  if __name__ == '__main__':\n"
          ]
        }
      ],
      "source": [
        "true_cut_images = image_cut_processing(df_true)"
      ]
    },
    {
      "cell_type": "code",
      "execution_count": 12,
      "metadata": {
        "id": "1Ot2CgXep7ym",
        "colab": {
          "base_uri": "https://localhost:8080/"
        },
        "outputId": "ef56f17a-17a0-459d-fc72-0ed918566820"
      },
      "outputs": [
        {
          "output_type": "stream",
          "name": "stderr",
          "text": [
            "/usr/local/lib/python3.7/dist-packages/ipykernel_launcher.py:8: DeprecationWarning: `np.float` is a deprecated alias for the builtin `float`. To silence this warning, use `float` by itself. Doing this will not modify any behavior and is safe. If you specifically wanted the numpy scalar type, use `np.float64` here.\n",
            "Deprecated in NumPy 1.20; for more details and guidance: https://numpy.org/devdocs/release/1.20.0-notes.html#deprecations\n",
            "  \n",
            "/usr/local/lib/python3.7/dist-packages/ipykernel_launcher.py:9: FutureWarning: elementwise comparison failed; returning scalar instead, but in the future will perform elementwise comparison\n",
            "  if __name__ == '__main__':\n"
          ]
        }
      ],
      "source": [
        "false_cut_images = image_cut_processing(df_false)"
      ]
    },
    {
      "cell_type": "code",
      "execution_count": 13,
      "metadata": {
        "id": "upSzCBDd-lXj"
      },
      "outputs": [],
      "source": [
        "list1 = [True for i in range(len(true_cut_images))]\n",
        "list2 = [False for i in range(len(false_cut_images))]\n",
        "y = list1+list2\n",
        "y = np.array(y)"
      ]
    },
    {
      "cell_type": "code",
      "execution_count": 14,
      "metadata": {
        "id": "DE4kdHPPTbrC"
      },
      "outputs": [],
      "source": [
        "X = true_cut_images + false_cut_images\n",
        "y = pd.get_dummies(y)"
      ]
    },
    {
      "cell_type": "code",
      "execution_count": 15,
      "metadata": {
        "id": "0pgd61PXJC--",
        "colab": {
          "base_uri": "https://localhost:8080/"
        },
        "outputId": "40e529ba-8d15-4fd3-f1ce-c16ee167ab89"
      },
      "outputs": [
        {
          "output_type": "execute_result",
          "data": {
            "text/plain": [
              "(260, 260)"
            ]
          },
          "metadata": {},
          "execution_count": 15
        }
      ],
      "source": [
        "len(X), len(y)"
      ]
    },
    {
      "cell_type": "code",
      "execution_count": 16,
      "metadata": {
        "id": "hVPCewBkQd15"
      },
      "outputs": [],
      "source": [
        "y['label'] = (y[True] == 1).astype(int)"
      ]
    },
    {
      "cell_type": "code",
      "execution_count": 17,
      "metadata": {
        "id": "gMSZ1VIb96ES"
      },
      "outputs": [],
      "source": [
        "from sklearn.model_selection import train_test_split\n",
        "\n",
        "X_train, X_test, y_train, y_test = train_test_split(X, y['label'], test_size=.2)"
      ]
    },
    {
      "cell_type": "code",
      "execution_count": 18,
      "metadata": {
        "id": "lhbUNcU8A1Mn"
      },
      "outputs": [],
      "source": [
        "X_train = np.array(X_train)\n",
        "X_test = np.array(X_test)\n",
        "y_train = np.array(y_train)\n",
        "y_test = np.array(y_test)"
      ]
    },
    {
      "cell_type": "code",
      "execution_count": 19,
      "metadata": {
        "id": "FT8GLjFVSpm0",
        "colab": {
          "base_uri": "https://localhost:8080/"
        },
        "outputId": "cf78e76f-aee0-4cf8-8d93-797308281802"
      },
      "outputs": [
        {
          "output_type": "execute_result",
          "data": {
            "text/plain": [
              "208"
            ]
          },
          "metadata": {},
          "execution_count": 19
        }
      ],
      "source": [
        "len(y_train)"
      ]
    },
    {
      "cell_type": "code",
      "execution_count": 20,
      "metadata": {
        "id": "eVrb7pygHXO2",
        "colab": {
          "base_uri": "https://localhost:8080/"
        },
        "outputId": "a4173046-596b-41cc-b70a-bac8c8558f4e"
      },
      "outputs": [
        {
          "output_type": "execute_result",
          "data": {
            "text/plain": [
              "((64, 64, 64), ())"
            ]
          },
          "metadata": {},
          "execution_count": 20
        }
      ],
      "source": [
        "X_test[8].shape, y_train[8].shape"
      ]
    },
    {
      "cell_type": "code",
      "execution_count": 21,
      "metadata": {
        "id": "CTuMcmJZQKbC",
        "colab": {
          "base_uri": "https://localhost:8080/"
        },
        "outputId": "f1d162db-9250-48df-9d4c-0c9bde39bef3"
      },
      "outputs": [
        {
          "output_type": "execute_result",
          "data": {
            "text/plain": [
              "(208, 64, 64, 64)"
            ]
          },
          "metadata": {},
          "execution_count": 21
        }
      ],
      "source": [
        "X_train.shape"
      ]
    },
    {
      "cell_type": "code",
      "execution_count": 22,
      "metadata": {
        "id": "1PFUpQzb6xZY",
        "colab": {
          "base_uri": "https://localhost:8080/"
        },
        "outputId": "d9c936c3-4db6-4783-85e7-c1e20c4dcbad"
      },
      "outputs": [
        {
          "output_type": "stream",
          "name": "stdout",
          "text": [
            "Model: \"sequential\"\n",
            "_________________________________________________________________\n",
            " Layer (type)                Output Shape              Param #   \n",
            "=================================================================\n",
            " flatten (Flatten)           (None, 262144)            0         \n",
            "                                                                 \n",
            " dense (Dense)               (None, 10)                2621450   \n",
            "                                                                 \n",
            " dense_1 (Dense)             (None, 10)                110       \n",
            "                                                                 \n",
            " dense_2 (Dense)             (None, 1)                 11        \n",
            "                                                                 \n",
            "=================================================================\n",
            "Total params: 2,621,571\n",
            "Trainable params: 2,621,571\n",
            "Non-trainable params: 0\n",
            "_________________________________________________________________\n"
          ]
        }
      ],
      "source": [
        "# Training the model with best hyperparamters\n",
        "from keras.models import Sequential\n",
        "from keras.layers import Dense, Activation, Flatten\n",
        "classifier = Sequential()\n",
        "classifier.add(Flatten(input_shape=[64, 64, 64]))\n",
        "classifier.add(Dense(units=10, input_dim=9, kernel_initializer='uniform', activation='relu'))\n",
        "classifier.add(Dense(units=10, kernel_initializer='uniform', activation='relu'))\n",
        "classifier.add(Dense(units=1, kernel_initializer='uniform', activation='sigmoid'))\n",
        "classifier.compile(optimizer='adam', loss='binary_crossentropy', metrics=['accuracy'])\n",
        "classifier.summary()"
      ]
    },
    {
      "cell_type": "code",
      "execution_count": 23,
      "metadata": {
        "id": "SwYnpCRU6xbn",
        "colab": {
          "base_uri": "https://localhost:8080/"
        },
        "outputId": "a5b116a2-a974-44a4-9edb-1bb43355f99f"
      },
      "outputs": [
        {
          "output_type": "stream",
          "name": "stdout",
          "text": [
            "Epoch 1/40\n",
            "11/11 [==============================] - 2s 65ms/step - loss: 10.6856 - accuracy: 0.7308 - val_loss: 12.5512 - val_accuracy: 0.8269\n",
            "Epoch 2/40\n",
            "11/11 [==============================] - 1s 46ms/step - loss: 8.3429 - accuracy: 0.7163 - val_loss: 2.2545 - val_accuracy: 0.6346\n",
            "Epoch 3/40\n",
            "11/11 [==============================] - 0s 44ms/step - loss: 4.2629 - accuracy: 0.6827 - val_loss: 2.0622 - val_accuracy: 0.7692\n",
            "Epoch 4/40\n",
            "11/11 [==============================] - 0s 42ms/step - loss: 2.8585 - accuracy: 0.6923 - val_loss: 1.2141 - val_accuracy: 0.8077\n",
            "Epoch 5/40\n",
            "11/11 [==============================] - 0s 45ms/step - loss: 0.8042 - accuracy: 0.7067 - val_loss: 1.1179 - val_accuracy: 0.8269\n",
            "Epoch 6/40\n",
            "11/11 [==============================] - 0s 44ms/step - loss: 0.6895 - accuracy: 0.8510 - val_loss: 0.6092 - val_accuracy: 0.8269\n",
            "Epoch 7/40\n",
            "11/11 [==============================] - 0s 45ms/step - loss: 0.7744 - accuracy: 0.8510 - val_loss: 0.5795 - val_accuracy: 0.8269\n",
            "Epoch 8/40\n",
            "11/11 [==============================] - 0s 45ms/step - loss: 0.7106 - accuracy: 0.8510 - val_loss: 0.7457 - val_accuracy: 0.8269\n",
            "Epoch 9/40\n",
            "11/11 [==============================] - 1s 46ms/step - loss: 0.5023 - accuracy: 0.8510 - val_loss: 0.6672 - val_accuracy: 0.8269\n",
            "Epoch 10/40\n",
            "11/11 [==============================] - 0s 44ms/step - loss: 0.4651 - accuracy: 0.8510 - val_loss: 0.6493 - val_accuracy: 0.8269\n",
            "Epoch 11/40\n",
            "11/11 [==============================] - 1s 48ms/step - loss: 0.4668 - accuracy: 0.8510 - val_loss: 0.5911 - val_accuracy: 0.8269\n",
            "Epoch 12/40\n",
            "11/11 [==============================] - 0s 45ms/step - loss: 0.5026 - accuracy: 0.8510 - val_loss: 0.5829 - val_accuracy: 0.8269\n",
            "Epoch 13/40\n",
            "11/11 [==============================] - 0s 45ms/step - loss: 0.5337 - accuracy: 0.7885 - val_loss: 0.7623 - val_accuracy: 0.8269\n",
            "Epoch 14/40\n",
            "11/11 [==============================] - 0s 43ms/step - loss: 0.5257 - accuracy: 0.8510 - val_loss: 0.6326 - val_accuracy: 0.8269\n",
            "Epoch 15/40\n",
            "11/11 [==============================] - 0s 43ms/step - loss: 0.4475 - accuracy: 0.8510 - val_loss: 0.6328 - val_accuracy: 0.8269\n",
            "Epoch 16/40\n",
            "11/11 [==============================] - 0s 43ms/step - loss: 0.4252 - accuracy: 0.8510 - val_loss: 0.7262 - val_accuracy: 0.8269\n",
            "Epoch 17/40\n",
            "11/11 [==============================] - 0s 44ms/step - loss: 0.3577 - accuracy: 0.8510 - val_loss: 0.6306 - val_accuracy: 0.8269\n",
            "Epoch 18/40\n",
            "11/11 [==============================] - 0s 43ms/step - loss: 0.3557 - accuracy: 0.8510 - val_loss: 0.7595 - val_accuracy: 0.8269\n",
            "Epoch 19/40\n",
            "11/11 [==============================] - 0s 44ms/step - loss: 0.3492 - accuracy: 0.8510 - val_loss: 0.6188 - val_accuracy: 0.8269\n",
            "Epoch 20/40\n",
            "11/11 [==============================] - 0s 44ms/step - loss: 0.3339 - accuracy: 0.8510 - val_loss: 0.8714 - val_accuracy: 0.8269\n",
            "Epoch 21/40\n",
            "11/11 [==============================] - 0s 42ms/step - loss: 0.3311 - accuracy: 0.8510 - val_loss: 0.7945 - val_accuracy: 0.8269\n",
            "Epoch 22/40\n",
            "11/11 [==============================] - 0s 44ms/step - loss: 0.3273 - accuracy: 0.8510 - val_loss: 0.7269 - val_accuracy: 0.8269\n",
            "Epoch 23/40\n",
            "11/11 [==============================] - 0s 43ms/step - loss: 0.3268 - accuracy: 0.8510 - val_loss: 0.7516 - val_accuracy: 0.8269\n",
            "Epoch 24/40\n",
            "11/11 [==============================] - 0s 44ms/step - loss: 0.3263 - accuracy: 0.8510 - val_loss: 0.7716 - val_accuracy: 0.8269\n",
            "Epoch 25/40\n",
            "11/11 [==============================] - 0s 44ms/step - loss: 0.3259 - accuracy: 0.8510 - val_loss: 0.7857 - val_accuracy: 0.8269\n",
            "Epoch 26/40\n",
            "11/11 [==============================] - 0s 45ms/step - loss: 0.3257 - accuracy: 0.8510 - val_loss: 0.6553 - val_accuracy: 0.8269\n",
            "Epoch 27/40\n",
            "11/11 [==============================] - 0s 43ms/step - loss: 0.3270 - accuracy: 0.8510 - val_loss: 0.6817 - val_accuracy: 0.8269\n",
            "Epoch 28/40\n",
            "11/11 [==============================] - 1s 47ms/step - loss: 0.3248 - accuracy: 0.8510 - val_loss: 0.7944 - val_accuracy: 0.8269\n",
            "Epoch 29/40\n",
            "11/11 [==============================] - 0s 44ms/step - loss: 0.3241 - accuracy: 0.8510 - val_loss: 0.8459 - val_accuracy: 0.8269\n",
            "Epoch 30/40\n",
            "11/11 [==============================] - 0s 45ms/step - loss: 0.3240 - accuracy: 0.8510 - val_loss: 0.6362 - val_accuracy: 0.8269\n",
            "Epoch 31/40\n",
            "11/11 [==============================] - 0s 44ms/step - loss: 0.3247 - accuracy: 0.8510 - val_loss: 0.6905 - val_accuracy: 0.8269\n",
            "Epoch 32/40\n",
            "11/11 [==============================] - 0s 45ms/step - loss: 0.3230 - accuracy: 0.8510 - val_loss: 0.7427 - val_accuracy: 0.8269\n",
            "Epoch 33/40\n",
            "11/11 [==============================] - 0s 45ms/step - loss: 0.3225 - accuracy: 0.8510 - val_loss: 0.7732 - val_accuracy: 0.8269\n",
            "Epoch 34/40\n",
            "11/11 [==============================] - 0s 45ms/step - loss: 0.3222 - accuracy: 0.8510 - val_loss: 0.7887 - val_accuracy: 0.8269\n",
            "Epoch 35/40\n",
            "11/11 [==============================] - 0s 45ms/step - loss: 0.3217 - accuracy: 0.8510 - val_loss: 0.7998 - val_accuracy: 0.8269\n",
            "Epoch 36/40\n",
            "11/11 [==============================] - 0s 44ms/step - loss: 0.3213 - accuracy: 0.8510 - val_loss: 0.8064 - val_accuracy: 0.8269\n",
            "Epoch 37/40\n",
            "11/11 [==============================] - 0s 44ms/step - loss: 0.3210 - accuracy: 0.8510 - val_loss: 0.8127 - val_accuracy: 0.8269\n",
            "Epoch 38/40\n",
            "11/11 [==============================] - 1s 45ms/step - loss: 0.3206 - accuracy: 0.8510 - val_loss: 0.8177 - val_accuracy: 0.8269\n",
            "Epoch 39/40\n",
            "11/11 [==============================] - 0s 44ms/step - loss: 0.3201 - accuracy: 0.8510 - val_loss: 0.8217 - val_accuracy: 0.8269\n",
            "Epoch 40/40\n",
            "11/11 [==============================] - 0s 42ms/step - loss: 0.3197 - accuracy: 0.8510 - val_loss: 0.8253 - val_accuracy: 0.8269\n"
          ]
        }
      ],
      "source": [
        "history = classifier.fit(X_train, y_train,\n",
        "          batch_size=20, epochs=40,\n",
        "          verbose=1,\n",
        "          validation_data=(X_test, y_test))"
      ]
    },
    {
      "cell_type": "markdown",
      "metadata": {
        "id": "hGB6VF-Z1-54"
      },
      "source": [
        "Evaluate the model\n"
      ]
    },
    {
      "cell_type": "code",
      "execution_count": 24,
      "metadata": {
        "id": "MgK72TgKsnc2",
        "colab": {
          "base_uri": "https://localhost:8080/"
        },
        "outputId": "31b5a38d-bef9-437e-b954-b01a618b542f"
      },
      "outputs": [
        {
          "output_type": "stream",
          "name": "stdout",
          "text": [
            "2/2 [==============================] - 0s 15ms/step - loss: 0.8253 - accuracy: 0.8269\n"
          ]
        },
        {
          "output_type": "execute_result",
          "data": {
            "text/plain": [
              "[0.8252938985824585, 0.8269230723381042]"
            ]
          },
          "metadata": {},
          "execution_count": 24
        }
      ],
      "source": [
        "classifier.evaluate(X_test, y_test, verbose=1)\n"
      ]
    },
    {
      "cell_type": "markdown",
      "source": [
        ""
      ],
      "metadata": {
        "id": "ElpwTBHFep4g"
      }
    },
    {
      "cell_type": "code",
      "execution_count": 25,
      "metadata": {
        "id": "3Q8V1YpGpULF",
        "colab": {
          "base_uri": "https://localhost:8080/",
          "height": 418
        },
        "outputId": "2f58d8f3-695b-4960-fc52-455a9cdbc14f"
      },
      "outputs": [
        {
          "output_type": "execute_result",
          "data": {
            "text/plain": [
              "Text(0.5, 1.0, 'Loss Curves')"
            ]
          },
          "metadata": {},
          "execution_count": 25
        },
        {
          "output_type": "display_data",
          "data": {
            "text/plain": [
              "<Figure size 576x432 with 1 Axes>"
            ],
            "image/png": "[encoded data removed]"
          },
          "metadata": {
            "needs_background": "light"
          }
        }
      ],
      "source": [
        "import matplotlib.pyplot as plt\n",
        "plt.figure(figsize=[8,6])\n",
        "plt.plot(history.history['loss'],'r',linewidth=3.0)\n",
        "plt.plot(history.history['val_loss'],'b',linewidth=3.0)\n",
        "plt.legend(['Training loss', 'Validation Loss'],fontsize=18)\n",
        "plt.xlabel('Epochs ',fontsize=16)\n",
        "plt.ylabel('Loss',fontsize=16)\n",
        "plt.title('Loss Curves',fontsize=1)"
      ]
    },
    {
      "cell_type": "code",
      "execution_count": 26,
      "metadata": {
        "id": "D5SjP1-o1H1v"
      },
      "outputs": [],
      "source": [
        "#finished"
      ]
    },
    {
      "cell_type": "code",
      "source": [
        "y_pred = classifier.predict(X_test)\n",
        "ypred1= np.round_(y_pred, decimals = 0, out = None).reshape(52,)\n",
        "ypred1"
      ],
      "metadata": {
        "colab": {
          "base_uri": "https://localhost:8080/"
        },
        "id": "nkDj2F7FvjP4",
        "outputId": "ad526e77-202f-4b46-fea4-d4eaba7d3029"
      },
      "execution_count": 28,
      "outputs": [
        {
          "output_type": "execute_result",
          "data": {
            "text/plain": [
              "array([1., 1., 1., 1., 1., 1., 1., 1., 1., 1., 1., 1., 1., 1., 1., 1., 1.,\n",
              "       1., 1., 1., 1., 1., 1., 1., 1., 1., 1., 1., 1., 1., 1., 1., 1., 1.,\n",
              "       1., 1., 1., 1., 1., 1., 1., 1., 1., 1., 1., 1., 1., 1., 1., 1., 1.,\n",
              "       1.], dtype=float32)"
            ]
          },
          "metadata": {},
          "execution_count": 28
        }
      ]
    },
    {
      "cell_type": "code",
      "execution_count": 30,
      "metadata": {
        "id": "DOOuDYUosJQ5",
        "colab": {
          "base_uri": "https://localhost:8080/"
        },
        "outputId": "acc67d32-ba70-423e-9795-2d28f56873c2"
      },
      "outputs": [
        {
          "output_type": "execute_result",
          "data": {
            "text/plain": [
              "array([0, 1, 1, 1, 1, 1, 1, 1, 1, 1, 1, 1, 1, 1, 1, 1, 1, 1, 0, 1, 0, 1,\n",
              "       1, 1, 1, 1, 1, 1, 1, 0, 1, 1, 1, 1, 1, 1, 1, 1, 0, 0, 0, 1, 1, 1,\n",
              "       0, 1, 1, 0, 1, 1, 1, 1])"
            ]
          },
          "metadata": {},
          "execution_count": 30
        }
      ],
      "source": [
        "y_test"
      ]
    },
    {
      "cell_type": "code",
      "execution_count": 31,
      "metadata": {
        "id": "tVZSnR_erwKH"
      },
      "outputs": [],
      "source": [
        "from sklearn.metrics import confusion_matrix\n",
        "cm = confusion_matrix(y_test, ypred1)"
      ]
    },
    {
      "cell_type": "code",
      "execution_count": 32,
      "metadata": {
        "id": "WEFrCJkMrwMn",
        "colab": {
          "base_uri": "https://localhost:8080/"
        },
        "outputId": "b23674e3-1cb4-49de-d7f9-fa0699efd5f6"
      },
      "outputs": [
        {
          "output_type": "execute_result",
          "data": {
            "text/plain": [
              "array([[ 0,  9],\n",
              "       [ 0, 43]])"
            ]
          },
          "metadata": {},
          "execution_count": 32
        }
      ],
      "source": [
        "cm"
      ]
    }
  ],
  "metadata": {
    "accelerator": "TPU",
    "colab": {
      "collapsed_sections": [],
      "machine_shape": "hm",
      "name": "Copy of medical_deepfakes_svm copy.ipynb",
      "provenance": []
    },
    "kernelspec": {
      "display_name": "Python 3",
      "name": "python3"
    },
    "language_info": {
      "name": "python"
    }
  },
  "nbformat": 4,
  "nbformat_minor": 0
}