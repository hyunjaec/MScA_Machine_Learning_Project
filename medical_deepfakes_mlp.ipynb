{
  "nbformat": 4,
  "nbformat_minor": 0,
  "metadata": {
    "colab": {
      "name": "medical_deepfakes.ipynb",
      "provenance": [],
      "collapsed_sections": [],
      "machine_shape": "hm",
      "include_colab_link": true
    },
    "kernelspec": {
      "name": "python3",
      "display_name": "Python 3"
    },
    "language_info": {
      "name": "python"
    },
    "accelerator": "GPU"
  },
  "cells": [
    {
      "cell_type": "markdown",
      "metadata": {
        "id": "view-in-github",
        "colab_type": "text"
      },
      "source": [
        "<a href=\"https://colab.research.google.com/github/hyunjaec/MScA_Machine_Learning_Project/blob/main/medical_deepfakes_mlp.ipynb\" target=\"_parent\"><img src=\"https://colab.research.google.com/assets/colab-badge.svg\" alt=\"Open In Colab\"/></a>"
      ]
    },
    {
      "cell_type": "code",
      "source": [
        "#!pip install pydicom\n",
        "import pandas as pd \n",
        "import numpy as np \n",
        "import os \n",
        "import seaborn as sns\n",
        "import pydicom \n",
        "import scipy.ndimage\n",
        "import matplotlib.pyplot as plt"
      ],
      "metadata": {
        "id": "GjCTID7ea9fx"
      },
      "execution_count": 141,
      "outputs": []
    },
    {
      "cell_type": "code",
      "execution_count": 2,
      "metadata": {
        "colab": {
          "base_uri": "https://localhost:8080/"
        },
        "id": "UhpK6XXdayjh",
        "outputId": "90cefbaf-53d5-4619-8a35-a5a483a8d13e"
      },
      "outputs": [
        {
          "output_type": "stream",
          "name": "stdout",
          "text": [
            "Mounted at /content/drive\n"
          ]
        }
      ],
      "source": [
        "from google.colab import drive\n",
        "drive.mount('/content/drive')"
      ]
    },
    {
      "cell_type": "code",
      "source": [
        "def load_dicom(path2scan_dir):\n",
        "    dicom_folder = path2scan_dir\n",
        "    dcms = os.listdir(dicom_folder)\n",
        "    first_slice_data = pydicom.read_file(os.path.join(path2scan_dir,dcms[0]))\n",
        "    first_slice = first_slice_data.pixel_array\n",
        "    orientation = np.transpose(first_slice_data.ImageOrientationPatient) #zyx format\n",
        "    spacing_xy = np.array(first_slice_data.PixelSpacing, dtype=float)\n",
        "    spacing_z = np.float(first_slice_data.SliceThickness)\n",
        "    spacing = np.array([spacing_z, spacing_xy[1], spacing_xy[0]]) #zyx format\n",
        "\n",
        "    scan = np.zeros((len(dcms),first_slice.shape[0],first_slice.shape[1]))\n",
        "    raw_slices=[]\n",
        "    indexes = []\n",
        "    for dcm in dcms:\n",
        "        slice_data = pydicom.read_file(os.path.join(dicom_folder,dcm))\n",
        "        slice_data.filename = dcm\n",
        "        raw_slices.append(slice_data)\n",
        "        indexes.append(float(slice_data.ImagePositionPatient[2]))\n",
        "    indexes = np.array(indexes,dtype=float)\n",
        "\n",
        "    raw_slices = [x for _, x in sorted(zip(indexes, raw_slices))]\n",
        "    origin = np.array(raw_slices[0][0x00200032].value) #origin is assumed to be the image location of the first slice\n",
        "    if origin is None:\n",
        "        origin = np.zeros(3)\n",
        "    else:\n",
        "        origin = np.array([origin[2],origin[1],origin[0]]) #change from x,y,z to z,y,x\n",
        "\n",
        "    for i, slice in enumerate(raw_slices):\n",
        "        scan[i, :, :] = slice.pixel_array\n",
        "    return scan, spacing, orientation, origin, raw_slices"
      ],
      "metadata": {
        "id": "l4MZgRxGbIz4"
      },
      "execution_count": 3,
      "outputs": []
    },
    {
      "cell_type": "code",
      "source": [
        "scan_uuid = 1280\n",
        "scan, spacing, orientation, origin, raw_slices = load_dicom('/content/drive/My Drive/Data/medical_deepfakes/CT_Scans/EXP1_blind/'+str(scan_uuid))\n",
        "\n",
        "print('The CT scan has the dimensions of',scan.shape,'  (z,y,x)')"
      ],
      "metadata": {
        "colab": {
          "base_uri": "https://localhost:8080/"
        },
        "id": "trYPbA1ebJdk",
        "outputId": "ec374a5d-3775-4299-fe39-9c2b956d3d66"
      },
      "execution_count": 4,
      "outputs": [
        {
          "output_type": "stream",
          "name": "stderr",
          "text": [
            "/usr/local/lib/python3.7/dist-packages/ipykernel_launcher.py:8: DeprecationWarning: `np.float` is a deprecated alias for the builtin `float`. To silence this warning, use `float` by itself. Doing this will not modify any behavior and is safe. If you specifically wanted the numpy scalar type, use `np.float64` here.\n",
            "Deprecated in NumPy 1.20; for more details and guidance: https://numpy.org/devdocs/release/1.20.0-notes.html#deprecations\n",
            "  \n"
          ]
        },
        {
          "output_type": "stream",
          "name": "stdout",
          "text": [
            "The CT scan has the dimensions of (133, 512, 512)   (z,y,x)\n"
          ]
        }
      ]
    },
    {
      "cell_type": "code",
      "source": [
        "df = pd.read_csv('/content/drive/My Drive/Data/medical_deepfakes/labels_exp1.csv')\n",
        "locations = df.loc[df['uuid']==scan_uuid]\n",
        "locations"
      ],
      "metadata": {
        "colab": {
          "base_uri": "https://localhost:8080/",
          "height": 81
        },
        "id": "vGsmqYTwcGZ1",
        "outputId": "81bdef71-e4d9-41e9-9710-8226024cad36"
      },
      "execution_count": 6,
      "outputs": [
        {
          "output_type": "execute_result",
          "data": {
            "text/plain": [
              "  type  uuid  slice    x    y\n",
              "0   FB  1280    100  323  381"
            ],
            "text/html": [
              "\n",
              "  <div id=\"df-43357b2b-a92d-485e-b948-35d146c5d448\">\n",
              "    <div class=\"colab-df-container\">\n",
              "      <div>\n",
              "<style scoped>\n",
              "    .dataframe tbody tr th:only-of-type {\n",
              "        vertical-align: middle;\n",
              "    }\n",
              "\n",
              "    .dataframe tbody tr th {\n",
              "        vertical-align: top;\n",
              "    }\n",
              "\n",
              "    .dataframe thead th {\n",
              "        text-align: right;\n",
              "    }\n",
              "</style>\n",
              "<table border=\"1\" class=\"dataframe\">\n",
              "  <thead>\n",
              "    <tr style=\"text-align: right;\">\n",
              "      <th></th>\n",
              "      <th>type</th>\n",
              "      <th>uuid</th>\n",
              "      <th>slice</th>\n",
              "      <th>x</th>\n",
              "      <th>y</th>\n",
              "    </tr>\n",
              "  </thead>\n",
              "  <tbody>\n",
              "    <tr>\n",
              "      <th>0</th>\n",
              "      <td>FB</td>\n",
              "      <td>1280</td>\n",
              "      <td>100</td>\n",
              "      <td>323</td>\n",
              "      <td>381</td>\n",
              "    </tr>\n",
              "  </tbody>\n",
              "</table>\n",
              "</div>\n",
              "      <button class=\"colab-df-convert\" onclick=\"convertToInteractive('df-43357b2b-a92d-485e-b948-35d146c5d448')\"\n",
              "              title=\"Convert this dataframe to an interactive table.\"\n",
              "              style=\"display:none;\">\n",
              "        \n",
              "  <svg xmlns=\"http://www.w3.org/2000/svg\" height=\"24px\"viewBox=\"0 0 24 24\"\n",
              "       width=\"24px\">\n",
              "    <path d=\"M0 0h24v24H0V0z\" fill=\"none\"/>\n",
              "    <path d=\"M18.56 5.44l.94 2.06.94-2.06 2.06-.94-2.06-.94-.94-2.06-.94 2.06-2.06.94zm-11 1L8.5 8.5l.94-2.06 2.06-.94-2.06-.94L8.5 2.5l-.94 2.06-2.06.94zm10 10l.94 2.06.94-2.06 2.06-.94-2.06-.94-.94-2.06-.94 2.06-2.06.94z\"/><path d=\"M17.41 7.96l-1.37-1.37c-.4-.4-.92-.59-1.43-.59-.52 0-1.04.2-1.43.59L10.3 9.45l-7.72 7.72c-.78.78-.78 2.05 0 2.83L4 21.41c.39.39.9.59 1.41.59.51 0 1.02-.2 1.41-.59l7.78-7.78 2.81-2.81c.8-.78.8-2.07 0-2.86zM5.41 20L4 18.59l7.72-7.72 1.47 1.35L5.41 20z\"/>\n",
              "  </svg>\n",
              "      </button>\n",
              "      \n",
              "  <style>\n",
              "    .colab-df-container {\n",
              "      display:flex;\n",
              "      flex-wrap:wrap;\n",
              "      gap: 12px;\n",
              "    }\n",
              "\n",
              "    .colab-df-convert {\n",
              "      background-color: #E8F0FE;\n",
              "      border: none;\n",
              "      border-radius: 50%;\n",
              "      cursor: pointer;\n",
              "      display: none;\n",
              "      fill: #1967D2;\n",
              "      height: 32px;\n",
              "      padding: 0 0 0 0;\n",
              "      width: 32px;\n",
              "    }\n",
              "\n",
              "    .colab-df-convert:hover {\n",
              "      background-color: #E2EBFA;\n",
              "      box-shadow: 0px 1px 2px rgba(60, 64, 67, 0.3), 0px 1px 3px 1px rgba(60, 64, 67, 0.15);\n",
              "      fill: #174EA6;\n",
              "    }\n",
              "\n",
              "    [theme=dark] .colab-df-convert {\n",
              "      background-color: #3B4455;\n",
              "      fill: #D2E3FC;\n",
              "    }\n",
              "\n",
              "    [theme=dark] .colab-df-convert:hover {\n",
              "      background-color: #434B5C;\n",
              "      box-shadow: 0px 1px 3px 1px rgba(0, 0, 0, 0.15);\n",
              "      filter: drop-shadow(0px 1px 2px rgba(0, 0, 0, 0.3));\n",
              "      fill: #FFFFFF;\n",
              "    }\n",
              "  </style>\n",
              "\n",
              "      <script>\n",
              "        const buttonEl =\n",
              "          document.querySelector('#df-43357b2b-a92d-485e-b948-35d146c5d448 button.colab-df-convert');\n",
              "        buttonEl.style.display =\n",
              "          google.colab.kernel.accessAllowed ? 'block' : 'none';\n",
              "\n",
              "        async function convertToInteractive(key) {\n",
              "          const element = document.querySelector('#df-43357b2b-a92d-485e-b948-35d146c5d448');\n",
              "          const dataTable =\n",
              "            await google.colab.kernel.invokeFunction('convertToInteractive',\n",
              "                                                     [key], {});\n",
              "          if (!dataTable) return;\n",
              "\n",
              "          const docLinkHtml = 'Like what you see? Visit the ' +\n",
              "            '<a target=\"_blank\" href=https://colab.research.google.com/notebooks/data_table.ipynb>data table notebook</a>'\n",
              "            + ' to learn more about interactive tables.';\n",
              "          element.innerHTML = '';\n",
              "          dataTable['output_type'] = 'display_data';\n",
              "          await google.colab.output.renderOutput(dataTable, element);\n",
              "          const docLink = document.createElement('div');\n",
              "          docLink.innerHTML = docLinkHtml;\n",
              "          element.appendChild(docLink);\n",
              "        }\n",
              "      </script>\n",
              "    </div>\n",
              "  </div>\n",
              "  "
            ]
          },
          "metadata": {},
          "execution_count": 6
        }
      ]
    },
    {
      "cell_type": "code",
      "source": [
        "def cutCube(X, center, shape, padd=0): #center is a 3d coord (zyx)\n",
        "    center = center.astype(int)\n",
        "    hlz = np.round(shape[0] / 2)\n",
        "    hly = np.round(shape[1] / 2)\n",
        "    hlx = np.round(shape[2] / 2)\n",
        "\n",
        "    #add padding if out of bounds\n",
        "    if ((center - np.array([hlz,hly,hlx])) < 0).any() or (\n",
        "        (center + np.array([hlz,hly,hlx]) + 1) > np.array(X.shape)).any():  # if cropping is out of bounds, add padding\n",
        "        try:\n",
        "          np.ones(np.array(X.shape) + shape * 2)\n",
        "        except:\n",
        "          return \"No\"\n",
        "        Xn = np.ones(np.array(X.shape) + shape * 2) * padd\n",
        "        Xn[shape[0]:(shape[0] + X.shape[0]), shape[1]:(shape[1] + X.shape[1]), shape[2]:(shape[2] + X.shape[2])] = X\n",
        "        centern = center + shape\n",
        "        cube = Xn[int(centern[0] - hlz):int(centern[0] - hlz + shape[0]),\n",
        "               int(centern[1] - hly):int(centern[1] - hly + shape[1]),\n",
        "               int(centern[2] - hlx):int(centern[2] - hlx + shape[2])]\n",
        "        return np.copy(cube)\n",
        "    else:\n",
        "        cube = X[int(center[0] - hlz):int(center[0] - hlz + shape[0]), int(center[1] - hly):int(center[1] - hly + shape[1]),\n",
        "               int(center[2] - hlx):int(center[2] - hlx + shape[2])]\n",
        "        return np.copy(cube)\n"
      ],
      "metadata": {
        "id": "WdsVYBl-cNHQ"
      },
      "execution_count": 7,
      "outputs": []
    },
    {
      "cell_type": "code",
      "source": [
        "import os\n",
        "dir = \"/content/drive/My Drive/Data/medical_deepfakes/CT_Scans/EXP1_blind/\"\n",
        "r=[]\n",
        "for root, dirs, files in os.walk(dir):\n",
        "  r.append(root)"
      ],
      "metadata": {
        "id": "G8KA-d-BlJ32"
      },
      "execution_count": 9,
      "outputs": []
    },
    {
      "cell_type": "code",
      "source": [
        "label_df = pd.read_csv('/content/drive/My Drive/Data/medical_deepfakes/Response EXP1 - AI_instances.csv')\n",
        "df_true = label_df.loc[label_df['label']==True]\n",
        "df_false = label_df.loc[label_df['label']==False]"
      ],
      "metadata": {
        "id": "64YDIvHmnG--"
      },
      "execution_count": 10,
      "outputs": []
    },
    {
      "cell_type": "code",
      "source": [
        "df_true.uuid[0]"
      ],
      "metadata": {
        "colab": {
          "base_uri": "https://localhost:8080/"
        },
        "id": "gxJZ4ncHoZKR",
        "outputId": "b7efd985-9238-4035-f9e5-af8aef66dc13"
      },
      "execution_count": 11,
      "outputs": [
        {
          "output_type": "execute_result",
          "data": {
            "text/plain": [
              "1280"
            ]
          },
          "metadata": {},
          "execution_count": 11
        }
      ]
    },
    {
      "cell_type": "code",
      "source": [
        "df_true = df_true.reset_index()\n",
        "df_false = df_false.reset_index()"
      ],
      "metadata": {
        "id": "hpfKjEaH53Oj"
      },
      "execution_count": 12,
      "outputs": []
    },
    {
      "cell_type": "code",
      "source": [
        "def image_cut_processing(df):\n",
        "  cut_cubes = []\n",
        "  for i in range(0,len(df)):\n",
        "    scan, spacing, orientation, origin, raw_slices = load_dicom('/content/drive/My Drive/Data/medical_deepfakes/CT_Scans/EXP1_blind/'+str(df.uuid[i]))\n",
        "    uuid_row = df.loc[df['uuid'] == df.uuid[i]]\n",
        "    for j in range(len(uuid_row)):\n",
        "      location = uuid_row.iloc[j]\n",
        "      coord = np.array([location['slice'],location['y'],location['x']])\n",
        "      if (cutCube(scan,coord,(64,64,64))) != \"No\":\n",
        "        cut_cubes.append(cutCube(scan,coord,(64,64,64)))\n",
        "  return cut_cubes\n",
        "  "
      ],
      "metadata": {
        "id": "kcEebwwlnxcT"
      },
      "execution_count": 13,
      "outputs": []
    },
    {
      "cell_type": "code",
      "source": [
        "true_cut_images = image_cut_processing(df_true)"
      ],
      "metadata": {
        "colab": {
          "base_uri": "https://localhost:8080/"
        },
        "id": "PYK_F6HcoLnl",
        "outputId": "84cd1f66-e819-48c4-fd85-60319b0eac32"
      },
      "execution_count": 14,
      "outputs": [
        {
          "output_type": "stream",
          "name": "stderr",
          "text": [
            "/usr/local/lib/python3.7/dist-packages/ipykernel_launcher.py:8: DeprecationWarning: `np.float` is a deprecated alias for the builtin `float`. To silence this warning, use `float` by itself. Doing this will not modify any behavior and is safe. If you specifically wanted the numpy scalar type, use `np.float64` here.\n",
            "Deprecated in NumPy 1.20; for more details and guidance: https://numpy.org/devdocs/release/1.20.0-notes.html#deprecations\n",
            "  \n",
            "/usr/local/lib/python3.7/dist-packages/ipykernel_launcher.py:9: FutureWarning: elementwise comparison failed; returning scalar instead, but in the future will perform elementwise comparison\n",
            "  if __name__ == '__main__':\n"
          ]
        }
      ]
    },
    {
      "cell_type": "code",
      "source": [
        "false_cut_images = image_cut_processing(df_false)"
      ],
      "metadata": {
        "colab": {
          "base_uri": "https://localhost:8080/"
        },
        "id": "1Ot2CgXep7ym",
        "outputId": "b3e7da9a-1f09-4318-a8a0-8fd9661260a3"
      },
      "execution_count": 15,
      "outputs": [
        {
          "output_type": "stream",
          "name": "stderr",
          "text": [
            "/usr/local/lib/python3.7/dist-packages/ipykernel_launcher.py:8: DeprecationWarning: `np.float` is a deprecated alias for the builtin `float`. To silence this warning, use `float` by itself. Doing this will not modify any behavior and is safe. If you specifically wanted the numpy scalar type, use `np.float64` here.\n",
            "Deprecated in NumPy 1.20; for more details and guidance: https://numpy.org/devdocs/release/1.20.0-notes.html#deprecations\n",
            "  \n",
            "/usr/local/lib/python3.7/dist-packages/ipykernel_launcher.py:9: FutureWarning: elementwise comparison failed; returning scalar instead, but in the future will perform elementwise comparison\n",
            "  if __name__ == '__main__':\n"
          ]
        }
      ]
    },
    {
      "cell_type": "code",
      "source": [
        "list1 = [True for i in range(219)]\n",
        "list2 = [False for i in range(41)]\n",
        "y = list1+list2\n",
        "y = np.array(y)"
      ],
      "metadata": {
        "id": "upSzCBDd-lXj"
      },
      "execution_count": 99,
      "outputs": []
    },
    {
      "cell_type": "code",
      "source": [
        "# y = y*1"
      ],
      "metadata": {
        "id": "rXMN0D5rCoUn"
      },
      "execution_count": 80,
      "outputs": []
    },
    {
      "cell_type": "code",
      "source": [
        "y = pd.get_dummies(y)"
      ],
      "metadata": {
        "id": "DE4kdHPPTbrC"
      },
      "execution_count": 100,
      "outputs": []
    },
    {
      "cell_type": "code",
      "source": [
        "X = true_cut_images +false_cut_images"
      ],
      "metadata": {
        "id": "XMuWG8ZW8Esv"
      },
      "execution_count": 101,
      "outputs": []
    },
    {
      "cell_type": "code",
      "source": [
        "len(X)"
      ],
      "metadata": {
        "colab": {
          "base_uri": "https://localhost:8080/"
        },
        "id": "0pgd61PXJC--",
        "outputId": "cdbf36f8-e10c-4104-ac89-e2081d924a22"
      },
      "execution_count": 102,
      "outputs": [
        {
          "output_type": "execute_result",
          "data": {
            "text/plain": [
              "260"
            ]
          },
          "metadata": {},
          "execution_count": 102
        }
      ]
    },
    {
      "cell_type": "code",
      "source": [
        "from sklearn.model_selection import train_test_split\n",
        "\n",
        "X_train, X_test, y_train, y_test = train_test_split(X, y, test_size=.2)"
      ],
      "metadata": {
        "id": "gMSZ1VIb96ES"
      },
      "execution_count": 103,
      "outputs": []
    },
    {
      "cell_type": "code",
      "source": [
        "X_train = np.array(X_train)\n",
        "X_test = np.array(X_test)\n",
        "y_train = np.array(y_train)\n",
        "y_test = np.array(y_test)"
      ],
      "metadata": {
        "id": "lhbUNcU8A1Mn"
      },
      "execution_count": 104,
      "outputs": []
    },
    {
      "cell_type": "code",
      "source": [
        "X_train = X_train.reshape(208, 262144)\n",
        "X_test = X_test.reshape(52, 262144)\n",
        "X_train = X_train.astype('float32')\n",
        "X_test = X_test.astype('float32')\n",
        "X_train /= 255\n",
        "X_test /= 255\n",
        "print(\"Training matrix shape\", X_train.shape)\n",
        "print(\"Testing matrix shape\", X_test.shape)"
      ],
      "metadata": {
        "id": "XhzF4411DyTT",
        "outputId": "87273467-a767-455b-ac76-e30ba20c80d5",
        "colab": {
          "base_uri": "https://localhost:8080/"
        }
      },
      "execution_count": 105,
      "outputs": [
        {
          "output_type": "stream",
          "name": "stdout",
          "text": [
            "Training matrix shape (208, 262144)\n",
            "Testing matrix shape (52, 262144)\n"
          ]
        }
      ]
    },
    {
      "cell_type": "code",
      "source": [
        "from keras.utils import np_utils"
      ],
      "metadata": {
        "id": "M1sG1E3YEodb"
      },
      "execution_count": 107,
      "outputs": []
    },
    {
      "cell_type": "code",
      "source": [
        "Y_train = np_utils.to_categorical(y_train, 2)\n",
        "Y_test = np_utils.to_categorical(y_test, 2)"
      ],
      "metadata": {
        "id": "CTxbtu3iEhSY"
      },
      "execution_count": 109,
      "outputs": []
    },
    {
      "cell_type": "code",
      "source": [
        "from tensorflow.keras.datasets import mnist\n",
        "from tensorflow.keras.models import Sequential\n",
        "from tensorflow.keras.layers import Dense, Dropout, Activation\n",
        "from keras.utils import np_utils"
      ],
      "metadata": {
        "id": "X70LEY2mEwHI"
      },
      "execution_count": 123,
      "outputs": []
    },
    {
      "cell_type": "code",
      "source": [
        "model = Sequential()\n",
        "model.add(Dense(512, input_shape=(262144,)))\n",
        "model.add(Activation('relu')) \n",
        " \n",
        "# Dropout helps protect the model from memorizing or \"overfitting\" the training data\n",
        "model.add(Dropout(0.2))   \n",
        "\n",
        "model.add(Dense(512))\n",
        "model.add(Activation('relu'))\n",
        "\n",
        "model.add(Dropout(0.2))\n",
        "model.add(Dense(2))\n",
        "model.add(Activation('softmax'))"
      ],
      "metadata": {
        "id": "Yicgl3G0Es6L"
      },
      "execution_count": 158,
      "outputs": []
    },
    {
      "cell_type": "code",
      "source": [
        "model.summary()"
      ],
      "metadata": {
        "id": "1e7sXY1sEu6b",
        "outputId": "12bb9f7c-0438-4417-a69a-435d78d8e39b",
        "colab": {
          "base_uri": "https://localhost:8080/"
        }
      },
      "execution_count": 159,
      "outputs": [
        {
          "output_type": "stream",
          "name": "stdout",
          "text": [
            "Model: \"sequential_9\"\n",
            "_________________________________________________________________\n",
            " Layer (type)                Output Shape              Param #   \n",
            "=================================================================\n",
            " dense_27 (Dense)            (None, 512)               134218240 \n",
            "                                                                 \n",
            " activation_27 (Activation)  (None, 512)               0         \n",
            "                                                                 \n",
            " dropout_18 (Dropout)        (None, 512)               0         \n",
            "                                                                 \n",
            " dense_28 (Dense)            (None, 512)               262656    \n",
            "                                                                 \n",
            " activation_28 (Activation)  (None, 512)               0         \n",
            "                                                                 \n",
            " dropout_19 (Dropout)        (None, 512)               0         \n",
            "                                                                 \n",
            " dense_29 (Dense)            (None, 2)                 1026      \n",
            "                                                                 \n",
            " activation_29 (Activation)  (None, 2)                 0         \n",
            "                                                                 \n",
            "=================================================================\n",
            "Total params: 134,481,922\n",
            "Trainable params: 134,481,922\n",
            "Non-trainable params: 0\n",
            "_________________________________________________________________\n"
          ]
        }
      ]
    },
    {
      "cell_type": "code",
      "source": [
        "model.compile(loss='categorical_crossentropy', optimizer='adam',metrics=['accuracy'])"
      ],
      "metadata": {
        "id": "ZHwXqaliE49S"
      },
      "execution_count": 160,
      "outputs": []
    },
    {
      "cell_type": "code",
      "source": [
        "history = model.fit(X_train, y_train,\n",
        "          batch_size=52, epochs=50,\n",
        "          verbose=1,\n",
        "          validation_data=(X_test, y_test))"
      ],
      "metadata": {
        "id": "EADtnD7dE8Af",
        "outputId": "cca896ae-ae11-4841-a5df-52cd34fecc2b",
        "colab": {
          "base_uri": "https://localhost:8080/"
        }
      },
      "execution_count": 161,
      "outputs": [
        {
          "output_type": "stream",
          "name": "stdout",
          "text": [
            "Epoch 1/50\n",
            "4/4 [==============================] - 1s 117ms/step - loss: 638.9181 - accuracy: 0.5577 - val_loss: 538.9929 - val_accuracy: 0.7885\n",
            "Epoch 2/50\n",
            "4/4 [==============================] - 0s 61ms/step - loss: 471.7352 - accuracy: 0.8558 - val_loss: 379.1084 - val_accuracy: 0.7885\n",
            "Epoch 3/50\n",
            "4/4 [==============================] - 0s 58ms/step - loss: 258.7431 - accuracy: 0.6154 - val_loss: 95.9076 - val_accuracy: 0.7885\n",
            "Epoch 4/50\n",
            "4/4 [==============================] - 0s 60ms/step - loss: 219.1762 - accuracy: 0.8654 - val_loss: 356.4852 - val_accuracy: 0.7885\n",
            "Epoch 5/50\n",
            "4/4 [==============================] - 0s 65ms/step - loss: 148.3559 - accuracy: 0.8510 - val_loss: 31.6200 - val_accuracy: 0.7500\n",
            "Epoch 6/50\n",
            "4/4 [==============================] - 0s 60ms/step - loss: 131.2750 - accuracy: 0.6827 - val_loss: 88.4422 - val_accuracy: 0.7885\n",
            "Epoch 7/50\n",
            "4/4 [==============================] - 0s 60ms/step - loss: 106.1976 - accuracy: 0.8606 - val_loss: 117.2119 - val_accuracy: 0.7885\n",
            "Epoch 8/50\n",
            "4/4 [==============================] - 0s 61ms/step - loss: 62.3477 - accuracy: 0.8317 - val_loss: 89.8172 - val_accuracy: 0.6731\n",
            "Epoch 9/50\n",
            "4/4 [==============================] - 0s 62ms/step - loss: 64.7924 - accuracy: 0.7788 - val_loss: 83.1111 - val_accuracy: 0.8077\n",
            "Epoch 10/50\n",
            "4/4 [==============================] - 0s 59ms/step - loss: 57.2270 - accuracy: 0.8654 - val_loss: 45.8411 - val_accuracy: 0.8462\n",
            "Epoch 11/50\n",
            "4/4 [==============================] - 0s 60ms/step - loss: 30.3640 - accuracy: 0.8221 - val_loss: 36.5289 - val_accuracy: 0.8269\n",
            "Epoch 12/50\n",
            "4/4 [==============================] - 0s 67ms/step - loss: 27.9860 - accuracy: 0.8462 - val_loss: 38.1052 - val_accuracy: 0.8654\n",
            "Epoch 13/50\n",
            "4/4 [==============================] - 0s 62ms/step - loss: 12.9577 - accuracy: 0.8990 - val_loss: 28.2747 - val_accuracy: 0.8846\n",
            "Epoch 14/50\n",
            "4/4 [==============================] - 0s 63ms/step - loss: 31.3009 - accuracy: 0.8606 - val_loss: 33.4453 - val_accuracy: 0.8654\n",
            "Epoch 15/50\n",
            "4/4 [==============================] - 0s 62ms/step - loss: 19.4628 - accuracy: 0.8750 - val_loss: 31.1507 - val_accuracy: 0.8077\n",
            "Epoch 16/50\n",
            "4/4 [==============================] - 0s 62ms/step - loss: 23.8722 - accuracy: 0.8462 - val_loss: 25.8432 - val_accuracy: 0.8269\n",
            "Epoch 17/50\n",
            "4/4 [==============================] - 0s 62ms/step - loss: 13.1987 - accuracy: 0.8990 - val_loss: 15.9027 - val_accuracy: 0.9231\n",
            "Epoch 18/50\n",
            "4/4 [==============================] - 0s 64ms/step - loss: 6.6750 - accuracy: 0.8942 - val_loss: 19.4511 - val_accuracy: 0.8077\n",
            "Epoch 19/50\n",
            "4/4 [==============================] - 0s 63ms/step - loss: 8.6411 - accuracy: 0.8846 - val_loss: 26.4349 - val_accuracy: 0.8269\n",
            "Epoch 20/50\n",
            "4/4 [==============================] - 0s 62ms/step - loss: 8.0366 - accuracy: 0.8990 - val_loss: 18.1646 - val_accuracy: 0.8269\n",
            "Epoch 21/50\n",
            "4/4 [==============================] - 0s 62ms/step - loss: 4.8479 - accuracy: 0.9087 - val_loss: 14.1780 - val_accuracy: 0.8269\n",
            "Epoch 22/50\n",
            "4/4 [==============================] - 0s 65ms/step - loss: 4.2043 - accuracy: 0.9038 - val_loss: 12.5356 - val_accuracy: 0.9038\n",
            "Epoch 23/50\n",
            "4/4 [==============================] - 0s 58ms/step - loss: 4.9208 - accuracy: 0.9038 - val_loss: 13.4478 - val_accuracy: 0.9231\n",
            "Epoch 24/50\n",
            "4/4 [==============================] - 0s 58ms/step - loss: 2.8704 - accuracy: 0.9375 - val_loss: 12.5517 - val_accuracy: 0.9231\n",
            "Epoch 25/50\n",
            "4/4 [==============================] - 0s 61ms/step - loss: 3.8899 - accuracy: 0.9183 - val_loss: 12.6944 - val_accuracy: 0.9038\n",
            "Epoch 26/50\n",
            "4/4 [==============================] - 0s 62ms/step - loss: 2.7914 - accuracy: 0.9567 - val_loss: 18.8019 - val_accuracy: 0.8846\n",
            "Epoch 27/50\n",
            "4/4 [==============================] - 0s 58ms/step - loss: 2.6053 - accuracy: 0.9567 - val_loss: 9.9698 - val_accuracy: 0.8846\n",
            "Epoch 28/50\n",
            "4/4 [==============================] - 0s 58ms/step - loss: 2.9122 - accuracy: 0.9471 - val_loss: 10.7919 - val_accuracy: 0.9231\n",
            "Epoch 29/50\n",
            "4/4 [==============================] - 0s 63ms/step - loss: 2.1329 - accuracy: 0.9231 - val_loss: 8.6335 - val_accuracy: 0.9038\n",
            "Epoch 30/50\n",
            "4/4 [==============================] - 0s 66ms/step - loss: 0.8512 - accuracy: 0.9567 - val_loss: 7.1032 - val_accuracy: 0.8846\n",
            "Epoch 31/50\n",
            "4/4 [==============================] - 0s 66ms/step - loss: 0.6074 - accuracy: 0.9712 - val_loss: 6.1653 - val_accuracy: 0.8846\n",
            "Epoch 32/50\n",
            "4/4 [==============================] - 0s 58ms/step - loss: 0.7796 - accuracy: 0.9519 - val_loss: 7.8821 - val_accuracy: 0.9038\n",
            "Epoch 33/50\n",
            "4/4 [==============================] - 0s 59ms/step - loss: 1.2858 - accuracy: 0.9663 - val_loss: 7.0074 - val_accuracy: 0.9038\n",
            "Epoch 34/50\n",
            "4/4 [==============================] - 0s 64ms/step - loss: 0.2676 - accuracy: 0.9904 - val_loss: 6.0331 - val_accuracy: 0.8462\n",
            "Epoch 35/50\n",
            "4/4 [==============================] - 0s 61ms/step - loss: 1.4863 - accuracy: 0.9519 - val_loss: 8.7213 - val_accuracy: 0.9038\n",
            "Epoch 36/50\n",
            "4/4 [==============================] - 0s 58ms/step - loss: 0.9657 - accuracy: 0.9615 - val_loss: 7.7008 - val_accuracy: 0.8846\n",
            "Epoch 37/50\n",
            "4/4 [==============================] - 0s 66ms/step - loss: 8.0803e-07 - accuracy: 1.0000 - val_loss: 7.0010 - val_accuracy: 0.8846\n",
            "Epoch 38/50\n",
            "4/4 [==============================] - 0s 64ms/step - loss: 0.9090 - accuracy: 0.9663 - val_loss: 7.1939 - val_accuracy: 0.8846\n",
            "Epoch 39/50\n",
            "4/4 [==============================] - 0s 59ms/step - loss: 0.1494 - accuracy: 0.9808 - val_loss: 5.5610 - val_accuracy: 0.8846\n",
            "Epoch 40/50\n",
            "4/4 [==============================] - 0s 64ms/step - loss: 0.6208 - accuracy: 0.9712 - val_loss: 6.3242 - val_accuracy: 0.8654\n",
            "Epoch 41/50\n",
            "4/4 [==============================] - 0s 62ms/step - loss: 1.2875 - accuracy: 0.9663 - val_loss: 8.5688 - val_accuracy: 0.9038\n",
            "Epoch 42/50\n",
            "4/4 [==============================] - 0s 59ms/step - loss: 0.5937 - accuracy: 0.9760 - val_loss: 6.6424 - val_accuracy: 0.9231\n",
            "Epoch 43/50\n",
            "4/4 [==============================] - 0s 61ms/step - loss: 0.3314 - accuracy: 0.9663 - val_loss: 6.6148 - val_accuracy: 0.9038\n",
            "Epoch 44/50\n",
            "4/4 [==============================] - 0s 58ms/step - loss: 0.0366 - accuracy: 0.9856 - val_loss: 6.5041 - val_accuracy: 0.9231\n",
            "Epoch 45/50\n",
            "4/4 [==============================] - 0s 59ms/step - loss: 0.2002 - accuracy: 0.9663 - val_loss: 6.8772 - val_accuracy: 0.8846\n",
            "Epoch 46/50\n",
            "4/4 [==============================] - 0s 62ms/step - loss: 0.6756 - accuracy: 0.9471 - val_loss: 7.0423 - val_accuracy: 0.9231\n",
            "Epoch 47/50\n",
            "4/4 [==============================] - 0s 60ms/step - loss: 0.0672 - accuracy: 0.9808 - val_loss: 6.9737 - val_accuracy: 0.9231\n",
            "Epoch 48/50\n",
            "4/4 [==============================] - 0s 65ms/step - loss: 0.1280 - accuracy: 0.9615 - val_loss: 8.6252 - val_accuracy: 0.9038\n",
            "Epoch 49/50\n",
            "4/4 [==============================] - 0s 59ms/step - loss: 1.3130 - accuracy: 0.9663 - val_loss: 6.8128 - val_accuracy: 0.9231\n",
            "Epoch 50/50\n",
            "4/4 [==============================] - 0s 58ms/step - loss: 0.5967 - accuracy: 0.9760 - val_loss: 6.9301 - val_accuracy: 0.9231\n"
          ]
        }
      ]
    },
    {
      "cell_type": "code",
      "source": [
        "score = model.evaluate(X_test, y_test,verbose=1)\n",
        "\n",
        "print('Test loss:', score)"
      ],
      "metadata": {
        "id": "15aSNY8TFsPa",
        "outputId": "0e0073e2-ae0e-4d53-c9a7-681155366807",
        "colab": {
          "base_uri": "https://localhost:8080/"
        }
      },
      "execution_count": 162,
      "outputs": [
        {
          "output_type": "stream",
          "name": "stdout",
          "text": [
            "2/2 [==============================] - 0s 13ms/step - loss: 6.9301 - accuracy: 0.9231\n",
            "Test loss: [6.930084705352783, 0.9230769276618958]\n"
          ]
        }
      ]
    },
    {
      "cell_type": "code",
      "source": [
        "plt.figure(figsize=[8,6])\n",
        "plt.plot(history.history['loss'],'r',linewidth=3.0)\n",
        "plt.plot(history.history['val_loss'],'b',linewidth=3.0)\n",
        "plt.legend(['Training loss', 'Validation Loss'],fontsize=18)\n",
        "plt.xlabel('Epochs ',fontsize=16)\n",
        "plt.ylabel('Loss',fontsize=16)\n",
        "plt.title('Loss Curves',fontsize=16)"
      ],
      "metadata": {
        "id": "aaXRfY39FtSE",
        "outputId": "cdee5967-59f4-4cd0-e92e-29fba0ab98c0",
        "colab": {
          "base_uri": "https://localhost:8080/",
          "height": 428
        }
      },
      "execution_count": 163,
      "outputs": [
        {
          "output_type": "execute_result",
          "data": {
            "text/plain": [
              "Text(0.5, 1.0, 'Loss Curves')"
            ]
          },
          "metadata": {},
          "execution_count": 163
        },
        {
          "output_type": "display_data",
          "data": {
            "text/plain": [
              "<Figure size 576x432 with 1 Axes>"
            ],
            "image/png": "[encoded data removed]"
          },
          "metadata": {
            "needs_background": "light"
          }
        }
      ]
    },
    {
      "cell_type": "code",
      "source": [
        "predicted_classes = model.predict(X_test)\n",
        "#print(predicted_classes)\n",
        "\n",
        "# Check which items we got right / wrong\n",
        "correct_indices = np.nonzero(predicted_classes == y_test)[0]\n",
        "incorrect_indices = np.nonzero(predicted_classes != y_test)[0]\n",
        "\n",
        "print(correct_indices)\n",
        "print(incorrect_indices)"
      ],
      "metadata": {
        "id": "gEo-xmt9GyAJ",
        "outputId": "a524aaac-a507-416e-8b61-0a2554a27f44",
        "colab": {
          "base_uri": "https://localhost:8080/"
        }
      },
      "execution_count": 165,
      "outputs": [
        {
          "output_type": "stream",
          "name": "stdout",
          "text": [
            "[ 0  1  1  2  2  4  4  5  6  6  7  7  9  9 10 10 11 12 12 13 13 15 15 19\n",
            " 19 20 21 22 22 23 23 24 25 25 26 26 27 29 30 30 31 31 32 32 33 33 34 37\n",
            " 37 38 39 40 41 41 42 42 43 43 44 45 45 46 46 47 47 48 48 49 50 51]\n",
            "[ 0  3  3  5  8  8 11 14 14 16 16 17 17 18 18 20 21 24 27 28 28 29 34 35\n",
            " 35 36 36 38 39 40 44 49 50 51]\n"
          ]
        }
      ]
    },
    {
      "cell_type": "code",
      "source": [
        ""
      ],
      "metadata": {
        "id": "Dxeukt2oG7ww"
      },
      "execution_count": null,
      "outputs": []
    }
  ]
}