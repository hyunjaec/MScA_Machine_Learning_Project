{
  "nbformat": 4,
  "nbformat_minor": 0,
  "metadata": {
    "colab": {
      "name": "medical_deepfakes.ipynb",
      "provenance": [],
      "collapsed_sections": [],
      "machine_shape": "hm",
      "include_colab_link": true
    },
    "kernelspec": {
      "name": "python3",
      "display_name": "Python 3"
    },
    "language_info": {
      "name": "python"
    },
    "accelerator": "GPU"
  },
  "cells": [
    {
      "cell_type": "markdown",
      "metadata": {
        "id": "view-in-github",
        "colab_type": "text"
      },
      "source": [
        "<a href=\"https://colab.research.google.com/github/hyunjaec/MScA_Machine_Learning_Project/blob/main/medical_deepfakes_mlp.ipynb\" target=\"_parent\"><img src=\"https://colab.research.google.com/assets/colab-badge.svg\" alt=\"Open In Colab\"/></a>"
      ]
    },
    {
      "cell_type": "markdown",
      "source": [
        "## Medical Deepfakes by MLP(Multilayer Perceptron)"
      ],
      "metadata": {
        "id": "UU5EzYEDAGt-"
      }
    },
    {
      "cell_type": "markdown",
      "source": [
        "### Import libraries"
      ],
      "metadata": {
        "id": "vuVnPAlwATs-"
      }
    },
    {
      "cell_type": "code",
      "source": [
        "#!pip install pydicom\n",
        "import pandas as pd \n",
        "import numpy as np \n",
        "import os \n",
        "import seaborn as sns\n",
        "import pydicom \n",
        "import scipy.ndimage\n",
        "import matplotlib.pyplot as plt"
      ],
      "metadata": {
        "id": "GjCTID7ea9fx"
      },
      "execution_count": 2,
      "outputs": []
    },
    {
      "cell_type": "code",
      "execution_count": 3,
      "metadata": {
        "colab": {
          "base_uri": "https://localhost:8080/"
        },
        "id": "UhpK6XXdayjh",
        "outputId": "f7af9e7c-55a7-44f5-d104-d360a1b2087e"
      },
      "outputs": [
        {
          "output_type": "stream",
          "name": "stdout",
          "text": [
            "Mounted at /content/drive\n"
          ]
        }
      ],
      "source": [
        "#Connect with drive on Colab\n",
        "from google.colab import drive\n",
        "drive.mount('/content/drive')"
      ]
    },
    {
      "cell_type": "markdown",
      "source": [
        "### Load dicom files"
      ],
      "metadata": {
        "id": "DnmzwpbWAmYz"
      }
    },
    {
      "cell_type": "code",
      "source": [
        "def load_dicom(path2scan_dir):\n",
        "    dicom_folder = path2scan_dir\n",
        "    dcms = os.listdir(dicom_folder)\n",
        "    first_slice_data = pydicom.read_file(os.path.join(path2scan_dir,dcms[0]))\n",
        "    first_slice = first_slice_data.pixel_array\n",
        "    orientation = np.transpose(first_slice_data.ImageOrientationPatient) #zyx format\n",
        "    spacing_xy = np.array(first_slice_data.PixelSpacing, dtype=float)\n",
        "    spacing_z = np.float(first_slice_data.SliceThickness)\n",
        "    spacing = np.array([spacing_z, spacing_xy[1], spacing_xy[0]]) #zyx format\n",
        "\n",
        "    scan = np.zeros((len(dcms),first_slice.shape[0],first_slice.shape[1]))\n",
        "    raw_slices=[]\n",
        "    indexes = []\n",
        "    for dcm in dcms:\n",
        "        slice_data = pydicom.read_file(os.path.join(dicom_folder,dcm))\n",
        "        slice_data.filename = dcm\n",
        "        raw_slices.append(slice_data)\n",
        "        indexes.append(float(slice_data.ImagePositionPatient[2]))\n",
        "    indexes = np.array(indexes,dtype=float)\n",
        "\n",
        "    raw_slices = [x for _, x in sorted(zip(indexes, raw_slices))]\n",
        "    origin = np.array(raw_slices[0][0x00200032].value) #origin is assumed to be the image location of the first slice\n",
        "    if origin is None:\n",
        "        origin = np.zeros(3)\n",
        "    else:\n",
        "        origin = np.array([origin[2],origin[1],origin[0]]) #change from x,y,z to z,y,x\n",
        "\n",
        "    for i, slice in enumerate(raw_slices):\n",
        "        scan[i, :, :] = slice.pixel_array\n",
        "    return scan, spacing, orientation, origin, raw_slices"
      ],
      "metadata": {
        "id": "l4MZgRxGbIz4"
      },
      "execution_count": 4,
      "outputs": []
    },
    {
      "cell_type": "code",
      "source": [
        "#Check if the function is working\n",
        "scan_uuid = 1280\n",
        "scan, spacing, orientation, origin, raw_slices = load_dicom('/content/drive/My Drive/Data/medical_deepfakes/CT_Scans/EXP1_blind/'+str(scan_uuid))\n",
        "\n",
        "print('The CT scan has the dimensions of',scan.shape,'  (z,y,x)')"
      ],
      "metadata": {
        "colab": {
          "base_uri": "https://localhost:8080/"
        },
        "id": "trYPbA1ebJdk",
        "outputId": "c08eb309-0725-46d6-b449-ee9f592fd0f5"
      },
      "execution_count": 5,
      "outputs": [
        {
          "output_type": "stream",
          "name": "stderr",
          "text": [
            "/usr/local/lib/python3.7/dist-packages/ipykernel_launcher.py:8: DeprecationWarning: `np.float` is a deprecated alias for the builtin `float`. To silence this warning, use `float` by itself. Doing this will not modify any behavior and is safe. If you specifically wanted the numpy scalar type, use `np.float64` here.\n",
            "Deprecated in NumPy 1.20; for more details and guidance: https://numpy.org/devdocs/release/1.20.0-notes.html#deprecations\n",
            "  \n"
          ]
        },
        {
          "output_type": "stream",
          "name": "stdout",
          "text": [
            "The CT scan has the dimensions of (133, 512, 512)   (z,y,x)\n"
          ]
        }
      ]
    },
    {
      "cell_type": "code",
      "source": [
        "df = pd.read_csv('/content/drive/My Drive/Data/medical_deepfakes/labels_exp1.csv')\n",
        "locations = df.loc[df['uuid']==scan_uuid]\n",
        "locations"
      ],
      "metadata": {
        "colab": {
          "base_uri": "https://localhost:8080/",
          "height": 81
        },
        "id": "vGsmqYTwcGZ1",
        "outputId": "800fd0eb-9d58-4641-bf66-715662e55d44"
      },
      "execution_count": 6,
      "outputs": [
        {
          "output_type": "execute_result",
          "data": {
            "text/plain": [
              "  type  uuid  slice    x    y\n",
              "0   FB  1280    100  323  381"
            ],
            "text/html": [
              "\n",
              "  <div id=\"df-54ef4436-2b60-4bd0-8d04-bb3cb929f711\">\n",
              "    <div class=\"colab-df-container\">\n",
              "      <div>\n",
              "<style scoped>\n",
              "    .dataframe tbody tr th:only-of-type {\n",
              "        vertical-align: middle;\n",
              "    }\n",
              "\n",
              "    .dataframe tbody tr th {\n",
              "        vertical-align: top;\n",
              "    }\n",
              "\n",
              "    .dataframe thead th {\n",
              "        text-align: right;\n",
              "    }\n",
              "</style>\n",
              "<table border=\"1\" class=\"dataframe\">\n",
              "  <thead>\n",
              "    <tr style=\"text-align: right;\">\n",
              "      <th></th>\n",
              "      <th>type</th>\n",
              "      <th>uuid</th>\n",
              "      <th>slice</th>\n",
              "      <th>x</th>\n",
              "      <th>y</th>\n",
              "    </tr>\n",
              "  </thead>\n",
              "  <tbody>\n",
              "    <tr>\n",
              "      <th>0</th>\n",
              "      <td>FB</td>\n",
              "      <td>1280</td>\n",
              "      <td>100</td>\n",
              "      <td>323</td>\n",
              "      <td>381</td>\n",
              "    </tr>\n",
              "  </tbody>\n",
              "</table>\n",
              "</div>\n",
              "      <button class=\"colab-df-convert\" onclick=\"convertToInteractive('df-54ef4436-2b60-4bd0-8d04-bb3cb929f711')\"\n",
              "              title=\"Convert this dataframe to an interactive table.\"\n",
              "              style=\"display:none;\">\n",
              "        \n",
              "  <svg xmlns=\"http://www.w3.org/2000/svg\" height=\"24px\"viewBox=\"0 0 24 24\"\n",
              "       width=\"24px\">\n",
              "    <path d=\"M0 0h24v24H0V0z\" fill=\"none\"/>\n",
              "    <path d=\"M18.56 5.44l.94 2.06.94-2.06 2.06-.94-2.06-.94-.94-2.06-.94 2.06-2.06.94zm-11 1L8.5 8.5l.94-2.06 2.06-.94-2.06-.94L8.5 2.5l-.94 2.06-2.06.94zm10 10l.94 2.06.94-2.06 2.06-.94-2.06-.94-.94-2.06-.94 2.06-2.06.94z\"/><path d=\"M17.41 7.96l-1.37-1.37c-.4-.4-.92-.59-1.43-.59-.52 0-1.04.2-1.43.59L10.3 9.45l-7.72 7.72c-.78.78-.78 2.05 0 2.83L4 21.41c.39.39.9.59 1.41.59.51 0 1.02-.2 1.41-.59l7.78-7.78 2.81-2.81c.8-.78.8-2.07 0-2.86zM5.41 20L4 18.59l7.72-7.72 1.47 1.35L5.41 20z\"/>\n",
              "  </svg>\n",
              "      </button>\n",
              "      \n",
              "  <style>\n",
              "    .colab-df-container {\n",
              "      display:flex;\n",
              "      flex-wrap:wrap;\n",
              "      gap: 12px;\n",
              "    }\n",
              "\n",
              "    .colab-df-convert {\n",
              "      background-color: #E8F0FE;\n",
              "      border: none;\n",
              "      border-radius: 50%;\n",
              "      cursor: pointer;\n",
              "      display: none;\n",
              "      fill: #1967D2;\n",
              "      height: 32px;\n",
              "      padding: 0 0 0 0;\n",
              "      width: 32px;\n",
              "    }\n",
              "\n",
              "    .colab-df-convert:hover {\n",
              "      background-color: #E2EBFA;\n",
              "      box-shadow: 0px 1px 2px rgba(60, 64, 67, 0.3), 0px 1px 3px 1px rgba(60, 64, 67, 0.15);\n",
              "      fill: #174EA6;\n",
              "    }\n",
              "\n",
              "    [theme=dark] .colab-df-convert {\n",
              "      background-color: #3B4455;\n",
              "      fill: #D2E3FC;\n",
              "    }\n",
              "\n",
              "    [theme=dark] .colab-df-convert:hover {\n",
              "      background-color: #434B5C;\n",
              "      box-shadow: 0px 1px 3px 1px rgba(0, 0, 0, 0.15);\n",
              "      filter: drop-shadow(0px 1px 2px rgba(0, 0, 0, 0.3));\n",
              "      fill: #FFFFFF;\n",
              "    }\n",
              "  </style>\n",
              "\n",
              "      <script>\n",
              "        const buttonEl =\n",
              "          document.querySelector('#df-54ef4436-2b60-4bd0-8d04-bb3cb929f711 button.colab-df-convert');\n",
              "        buttonEl.style.display =\n",
              "          google.colab.kernel.accessAllowed ? 'block' : 'none';\n",
              "\n",
              "        async function convertToInteractive(key) {\n",
              "          const element = document.querySelector('#df-54ef4436-2b60-4bd0-8d04-bb3cb929f711');\n",
              "          const dataTable =\n",
              "            await google.colab.kernel.invokeFunction('convertToInteractive',\n",
              "                                                     [key], {});\n",
              "          if (!dataTable) return;\n",
              "\n",
              "          const docLinkHtml = 'Like what you see? Visit the ' +\n",
              "            '<a target=\"_blank\" href=https://colab.research.google.com/notebooks/data_table.ipynb>data table notebook</a>'\n",
              "            + ' to learn more about interactive tables.';\n",
              "          element.innerHTML = '';\n",
              "          dataTable['output_type'] = 'display_data';\n",
              "          await google.colab.output.renderOutput(dataTable, element);\n",
              "          const docLink = document.createElement('div');\n",
              "          docLink.innerHTML = docLinkHtml;\n",
              "          element.appendChild(docLink);\n",
              "        }\n",
              "      </script>\n",
              "    </div>\n",
              "  </div>\n",
              "  "
            ]
          },
          "metadata": {},
          "execution_count": 6
        }
      ]
    },
    {
      "cell_type": "markdown",
      "source": [
        "### Load the label files and cut and save images by coordinates"
      ],
      "metadata": {
        "id": "dTarpLVyA3Nn"
      }
    },
    {
      "cell_type": "code",
      "source": [
        "def cutCube(X, center, shape, padd=0): #center is a 3d coord (zyx)\n",
        "    center = center.astype(int)\n",
        "    hlz = np.round(shape[0] / 2)\n",
        "    hly = np.round(shape[1] / 2)\n",
        "    hlx = np.round(shape[2] / 2)\n",
        "\n",
        "    #add padding if out of bounds\n",
        "    if ((center - np.array([hlz,hly,hlx])) < 0).any() or (\n",
        "        (center + np.array([hlz,hly,hlx]) + 1) > np.array(X.shape)).any():  # if cropping is out of bounds, add padding\n",
        "        try:\n",
        "          np.ones(np.array(X.shape) + shape * 2)\n",
        "        except:\n",
        "          return \"No\"\n",
        "        Xn = np.ones(np.array(X.shape) + shape * 2) * padd\n",
        "        Xn[shape[0]:(shape[0] + X.shape[0]), shape[1]:(shape[1] + X.shape[1]), shape[2]:(shape[2] + X.shape[2])] = X\n",
        "        centern = center + shape\n",
        "        cube = Xn[int(centern[0] - hlz):int(centern[0] - hlz + shape[0]),\n",
        "               int(centern[1] - hly):int(centern[1] - hly + shape[1]),\n",
        "               int(centern[2] - hlx):int(centern[2] - hlx + shape[2])]\n",
        "        return np.copy(cube)\n",
        "    else:\n",
        "        cube = X[int(center[0] - hlz):int(center[0] - hlz + shape[0]), int(center[1] - hly):int(center[1] - hly + shape[1]),\n",
        "               int(center[2] - hlx):int(center[2] - hlx + shape[2])]\n",
        "        return np.copy(cube)\n"
      ],
      "metadata": {
        "id": "WdsVYBl-cNHQ"
      },
      "execution_count": 7,
      "outputs": []
    },
    {
      "cell_type": "code",
      "source": [
        "import os\n",
        "dir = \"/content/drive/My Drive/Data/medical_deepfakes/CT_Scans/EXP1_open/\"\n",
        "r=[]\n",
        "for root, dirs, files in os.walk(dir):\n",
        "  r.append(root)"
      ],
      "metadata": {
        "id": "G8KA-d-BlJ32"
      },
      "execution_count": 8,
      "outputs": []
    },
    {
      "cell_type": "code",
      "source": [
        "#Load label files\n",
        "label_df1 = pd.read_csv('/content/drive/My Drive/Data/medical_deepfakes/Response EXP1 - Reviewer 1_instances.csv')\n",
        "label_df2 = pd.read_csv('/content/drive/My Drive/Data/medical_deepfakes/Response EXP1 - Reviewer 2_instances.csv')\n",
        "label_df3 = pd.read_csv('/content/drive/My Drive/Data/medical_deepfakes/Response EXP1 - Reviewer 3_instances.csv')\n",
        "\n",
        "preds = pd.concat([label_df1[['label']], label_df2[['label']], label_df3[['label']]], axis = 1)\n",
        "preds.columns = ['label1','label2','label3']\n",
        "\n",
        "def final_label(row):\n",
        "  row.label1 = int(row.label1)\n",
        "  row.label2 = int(row.label2)\n",
        "  row.label3 = int(row.label3)\n",
        "  if row.label1 == 0:\n",
        "        row.label1 == -1\n",
        "  if row.label2 == 0:\n",
        "        row.label2 == -1\n",
        "  if row.label3 == 0:\n",
        "        row.label3 == -1\n",
        "  if row.label1 == row.label2 == row.label3:\n",
        "    return bool(row.label1)\n",
        "  else:\n",
        "    return bool(np.sign((row.label1*row.confidence1 + row.label1*row.confidence2 + row.label1*row.confidence3) / 3))\n",
        "\n",
        "preds['label'] = preds.apply(lambda row: final_label(row), axis = 1)\n",
        "label_df = pd.concat([label_df1.drop('label', axis = 1), preds['label']], axis = 1)\n",
        "label_df.head()"
      ],
      "metadata": {
        "id": "mhC7pucX8vbm",
        "outputId": "9b96afd2-733b-4ae2-c290-fdeddc605038",
        "colab": {
          "base_uri": "https://localhost:8080/",
          "height": 206
        }
      },
      "execution_count": 9,
      "outputs": [
        {
          "output_type": "execute_result",
          "data": {
            "text/plain": [
              "  type  uuid  slice    x    y  detected  detected_diam  label\n",
              "0   FB  1280    100  323  381     False            0.0   True\n",
              "1   FB  1009     76  354  288     False            0.0   True\n",
              "2   FB  7794     79  163  191     False            0.0   True\n",
              "3   FB  7794     94  338  243     False            0.0   True\n",
              "4   FB  2997     45  156  135     False            0.0   True"
            ],
            "text/html": [
              "\n",
              "  <div id=\"df-a8dc35dd-5282-4123-9b2f-bb928feeb807\">\n",
              "    <div class=\"colab-df-container\">\n",
              "      <div>\n",
              "<style scoped>\n",
              "    .dataframe tbody tr th:only-of-type {\n",
              "        vertical-align: middle;\n",
              "    }\n",
              "\n",
              "    .dataframe tbody tr th {\n",
              "        vertical-align: top;\n",
              "    }\n",
              "\n",
              "    .dataframe thead th {\n",
              "        text-align: right;\n",
              "    }\n",
              "</style>\n",
              "<table border=\"1\" class=\"dataframe\">\n",
              "  <thead>\n",
              "    <tr style=\"text-align: right;\">\n",
              "      <th></th>\n",
              "      <th>type</th>\n",
              "      <th>uuid</th>\n",
              "      <th>slice</th>\n",
              "      <th>x</th>\n",
              "      <th>y</th>\n",
              "      <th>detected</th>\n",
              "      <th>detected_diam</th>\n",
              "      <th>label</th>\n",
              "    </tr>\n",
              "  </thead>\n",
              "  <tbody>\n",
              "    <tr>\n",
              "      <th>0</th>\n",
              "      <td>FB</td>\n",
              "      <td>1280</td>\n",
              "      <td>100</td>\n",
              "      <td>323</td>\n",
              "      <td>381</td>\n",
              "      <td>False</td>\n",
              "      <td>0.0</td>\n",
              "      <td>True</td>\n",
              "    </tr>\n",
              "    <tr>\n",
              "      <th>1</th>\n",
              "      <td>FB</td>\n",
              "      <td>1009</td>\n",
              "      <td>76</td>\n",
              "      <td>354</td>\n",
              "      <td>288</td>\n",
              "      <td>False</td>\n",
              "      <td>0.0</td>\n",
              "      <td>True</td>\n",
              "    </tr>\n",
              "    <tr>\n",
              "      <th>2</th>\n",
              "      <td>FB</td>\n",
              "      <td>7794</td>\n",
              "      <td>79</td>\n",
              "      <td>163</td>\n",
              "      <td>191</td>\n",
              "      <td>False</td>\n",
              "      <td>0.0</td>\n",
              "      <td>True</td>\n",
              "    </tr>\n",
              "    <tr>\n",
              "      <th>3</th>\n",
              "      <td>FB</td>\n",
              "      <td>7794</td>\n",
              "      <td>94</td>\n",
              "      <td>338</td>\n",
              "      <td>243</td>\n",
              "      <td>False</td>\n",
              "      <td>0.0</td>\n",
              "      <td>True</td>\n",
              "    </tr>\n",
              "    <tr>\n",
              "      <th>4</th>\n",
              "      <td>FB</td>\n",
              "      <td>2997</td>\n",
              "      <td>45</td>\n",
              "      <td>156</td>\n",
              "      <td>135</td>\n",
              "      <td>False</td>\n",
              "      <td>0.0</td>\n",
              "      <td>True</td>\n",
              "    </tr>\n",
              "  </tbody>\n",
              "</table>\n",
              "</div>\n",
              "      <button class=\"colab-df-convert\" onclick=\"convertToInteractive('df-a8dc35dd-5282-4123-9b2f-bb928feeb807')\"\n",
              "              title=\"Convert this dataframe to an interactive table.\"\n",
              "              style=\"display:none;\">\n",
              "        \n",
              "  <svg xmlns=\"http://www.w3.org/2000/svg\" height=\"24px\"viewBox=\"0 0 24 24\"\n",
              "       width=\"24px\">\n",
              "    <path d=\"M0 0h24v24H0V0z\" fill=\"none\"/>\n",
              "    <path d=\"M18.56 5.44l.94 2.06.94-2.06 2.06-.94-2.06-.94-.94-2.06-.94 2.06-2.06.94zm-11 1L8.5 8.5l.94-2.06 2.06-.94-2.06-.94L8.5 2.5l-.94 2.06-2.06.94zm10 10l.94 2.06.94-2.06 2.06-.94-2.06-.94-.94-2.06-.94 2.06-2.06.94z\"/><path d=\"M17.41 7.96l-1.37-1.37c-.4-.4-.92-.59-1.43-.59-.52 0-1.04.2-1.43.59L10.3 9.45l-7.72 7.72c-.78.78-.78 2.05 0 2.83L4 21.41c.39.39.9.59 1.41.59.51 0 1.02-.2 1.41-.59l7.78-7.78 2.81-2.81c.8-.78.8-2.07 0-2.86zM5.41 20L4 18.59l7.72-7.72 1.47 1.35L5.41 20z\"/>\n",
              "  </svg>\n",
              "      </button>\n",
              "      \n",
              "  <style>\n",
              "    .colab-df-container {\n",
              "      display:flex;\n",
              "      flex-wrap:wrap;\n",
              "      gap: 12px;\n",
              "    }\n",
              "\n",
              "    .colab-df-convert {\n",
              "      background-color: #E8F0FE;\n",
              "      border: none;\n",
              "      border-radius: 50%;\n",
              "      cursor: pointer;\n",
              "      display: none;\n",
              "      fill: #1967D2;\n",
              "      height: 32px;\n",
              "      padding: 0 0 0 0;\n",
              "      width: 32px;\n",
              "    }\n",
              "\n",
              "    .colab-df-convert:hover {\n",
              "      background-color: #E2EBFA;\n",
              "      box-shadow: 0px 1px 2px rgba(60, 64, 67, 0.3), 0px 1px 3px 1px rgba(60, 64, 67, 0.15);\n",
              "      fill: #174EA6;\n",
              "    }\n",
              "\n",
              "    [theme=dark] .colab-df-convert {\n",
              "      background-color: #3B4455;\n",
              "      fill: #D2E3FC;\n",
              "    }\n",
              "\n",
              "    [theme=dark] .colab-df-convert:hover {\n",
              "      background-color: #434B5C;\n",
              "      box-shadow: 0px 1px 3px 1px rgba(0, 0, 0, 0.15);\n",
              "      filter: drop-shadow(0px 1px 2px rgba(0, 0, 0, 0.3));\n",
              "      fill: #FFFFFF;\n",
              "    }\n",
              "  </style>\n",
              "\n",
              "      <script>\n",
              "        const buttonEl =\n",
              "          document.querySelector('#df-a8dc35dd-5282-4123-9b2f-bb928feeb807 button.colab-df-convert');\n",
              "        buttonEl.style.display =\n",
              "          google.colab.kernel.accessAllowed ? 'block' : 'none';\n",
              "\n",
              "        async function convertToInteractive(key) {\n",
              "          const element = document.querySelector('#df-a8dc35dd-5282-4123-9b2f-bb928feeb807');\n",
              "          const dataTable =\n",
              "            await google.colab.kernel.invokeFunction('convertToInteractive',\n",
              "                                                     [key], {});\n",
              "          if (!dataTable) return;\n",
              "\n",
              "          const docLinkHtml = 'Like what you see? Visit the ' +\n",
              "            '<a target=\"_blank\" href=https://colab.research.google.com/notebooks/data_table.ipynb>data table notebook</a>'\n",
              "            + ' to learn more about interactive tables.';\n",
              "          element.innerHTML = '';\n",
              "          dataTable['output_type'] = 'display_data';\n",
              "          await google.colab.output.renderOutput(dataTable, element);\n",
              "          const docLink = document.createElement('div');\n",
              "          docLink.innerHTML = docLinkHtml;\n",
              "          element.appendChild(docLink);\n",
              "        }\n",
              "      </script>\n",
              "    </div>\n",
              "  </div>\n",
              "  "
            ]
          },
          "metadata": {},
          "execution_count": 9
        }
      ]
    },
    {
      "cell_type": "code",
      "source": [
        "df_true = label_df.loc[label_df['label']==True]\n",
        "df_false = label_df.loc[label_df['label']==False]"
      ],
      "metadata": {
        "id": "64YDIvHmnG--"
      },
      "execution_count": 10,
      "outputs": []
    },
    {
      "cell_type": "code",
      "source": [
        "df_true.uuid[0]"
      ],
      "metadata": {
        "colab": {
          "base_uri": "https://localhost:8080/"
        },
        "id": "gxJZ4ncHoZKR",
        "outputId": "0965b2d2-0ef2-4838-c039-2a6428fcf92b"
      },
      "execution_count": 11,
      "outputs": [
        {
          "output_type": "execute_result",
          "data": {
            "text/plain": [
              "1280"
            ]
          },
          "metadata": {},
          "execution_count": 11
        }
      ]
    },
    {
      "cell_type": "code",
      "source": [
        "df_true = df_true.reset_index()\n",
        "df_false = df_false.reset_index()"
      ],
      "metadata": {
        "id": "hpfKjEaH53Oj"
      },
      "execution_count": 12,
      "outputs": []
    },
    {
      "cell_type": "code",
      "source": [
        "def image_cut_processing(df):\n",
        "  cut_cubes = []\n",
        "  for i in range(0,len(df)):\n",
        "    scan, spacing, orientation, origin, raw_slices = load_dicom('/content/drive/My Drive/Data/medical_deepfakes/CT_Scans/EXP1_blind/'+str(df.uuid[i]))\n",
        "    uuid_row = df.loc[df['uuid'] == df.uuid[i]]\n",
        "    for j in range(len(uuid_row)):\n",
        "      location = uuid_row.iloc[j]\n",
        "      coord = np.array([location['slice'],location['y'],location['x']])\n",
        "      if (cutCube(scan,coord,(64,64,64))) != \"No\":\n",
        "        cut_cubes.append(cutCube(scan,coord,(64,64,64)))\n",
        "  return cut_cubes\n",
        "  "
      ],
      "metadata": {
        "id": "kcEebwwlnxcT"
      },
      "execution_count": 13,
      "outputs": []
    },
    {
      "cell_type": "code",
      "source": [
        "#Save cut images for true\n",
        "true_cut_images = image_cut_processing(df_true)"
      ],
      "metadata": {
        "colab": {
          "base_uri": "https://localhost:8080/"
        },
        "id": "PYK_F6HcoLnl",
        "outputId": "d1796907-435c-4ac5-d733-c6f8d76f968c"
      },
      "execution_count": 14,
      "outputs": [
        {
          "output_type": "stream",
          "name": "stderr",
          "text": [
            "/usr/local/lib/python3.7/dist-packages/ipykernel_launcher.py:8: DeprecationWarning: `np.float` is a deprecated alias for the builtin `float`. To silence this warning, use `float` by itself. Doing this will not modify any behavior and is safe. If you specifically wanted the numpy scalar type, use `np.float64` here.\n",
            "Deprecated in NumPy 1.20; for more details and guidance: https://numpy.org/devdocs/release/1.20.0-notes.html#deprecations\n",
            "  \n",
            "/usr/local/lib/python3.7/dist-packages/ipykernel_launcher.py:9: FutureWarning: elementwise comparison failed; returning scalar instead, but in the future will perform elementwise comparison\n",
            "  if __name__ == '__main__':\n"
          ]
        }
      ]
    },
    {
      "cell_type": "code",
      "source": [
        "#Save cut images for false\n",
        "false_cut_images = image_cut_processing(df_false)"
      ],
      "metadata": {
        "colab": {
          "base_uri": "https://localhost:8080/"
        },
        "id": "1Ot2CgXep7ym",
        "outputId": "4db088e2-872f-42cb-bfea-a56569bf0f3a"
      },
      "execution_count": 15,
      "outputs": [
        {
          "output_type": "stream",
          "name": "stderr",
          "text": [
            "/usr/local/lib/python3.7/dist-packages/ipykernel_launcher.py:8: DeprecationWarning: `np.float` is a deprecated alias for the builtin `float`. To silence this warning, use `float` by itself. Doing this will not modify any behavior and is safe. If you specifically wanted the numpy scalar type, use `np.float64` here.\n",
            "Deprecated in NumPy 1.20; for more details and guidance: https://numpy.org/devdocs/release/1.20.0-notes.html#deprecations\n",
            "  \n",
            "/usr/local/lib/python3.7/dist-packages/ipykernel_launcher.py:9: FutureWarning: elementwise comparison failed; returning scalar instead, but in the future will perform elementwise comparison\n",
            "  if __name__ == '__main__':\n"
          ]
        }
      ]
    },
    {
      "cell_type": "code",
      "source": [
        "#Target label \n",
        "list1 = [True for i in range(len(true_cut_images))]\n",
        "list2 = [False for i in range(len(false_cut_images))]\n",
        "y = list1+list2\n",
        "y = np.array(y)"
      ],
      "metadata": {
        "id": "upSzCBDd-lXj"
      },
      "execution_count": 16,
      "outputs": []
    },
    {
      "cell_type": "code",
      "source": [
        "y = pd.get_dummies(y)\n",
        "X = true_cut_images +false_cut_images\n",
        "len(X)"
      ],
      "metadata": {
        "id": "XMuWG8ZW8Esv",
        "outputId": "0e24d7c9-1924-4dd2-cc96-4cc5fec126e9",
        "colab": {
          "base_uri": "https://localhost:8080/"
        }
      },
      "execution_count": 17,
      "outputs": [
        {
          "output_type": "execute_result",
          "data": {
            "text/plain": [
              "260"
            ]
          },
          "metadata": {},
          "execution_count": 17
        }
      ]
    },
    {
      "cell_type": "markdown",
      "source": [
        "### Split the train and test "
      ],
      "metadata": {
        "id": "0E372wgJBjji"
      }
    },
    {
      "cell_type": "code",
      "source": [
        "from sklearn.model_selection import train_test_split\n",
        "\n",
        "X_train, X_test, y_train, y_test = train_test_split(X, y, test_size=.2)"
      ],
      "metadata": {
        "id": "gMSZ1VIb96ES"
      },
      "execution_count": 18,
      "outputs": []
    },
    {
      "cell_type": "code",
      "source": [
        "X_train = np.array(X_train)\n",
        "X_test = np.array(X_test)\n",
        "y_train = np.array(y_train)\n",
        "y_test = np.array(y_test)"
      ],
      "metadata": {
        "id": "lhbUNcU8A1Mn"
      },
      "execution_count": 19,
      "outputs": []
    },
    {
      "cell_type": "code",
      "source": [
        "nsamples, nx, ny, nz = X_train.shape\n",
        "X_train = X_train.reshape(nsamples, nx*ny*nz)\n",
        "X_test = X_test.reshape(X_test.shape[0], nx*ny*nz)\n",
        "X_train = X_train.astype('float32')\n",
        "X_test = X_test.astype('float32')\n",
        "X_train /= 255\n",
        "X_test /= 255\n",
        "print(\"Training matrix shape\", X_train.shape)\n",
        "print(\"Testing matrix shape\", X_test.shape)"
      ],
      "metadata": {
        "id": "XhzF4411DyTT",
        "outputId": "8b3a2e8c-3ee1-4c9f-fad7-0c24d803daa7",
        "colab": {
          "base_uri": "https://localhost:8080/"
        }
      },
      "execution_count": 20,
      "outputs": [
        {
          "output_type": "stream",
          "name": "stdout",
          "text": [
            "Training matrix shape (208, 262144)\n",
            "Testing matrix shape (52, 262144)\n"
          ]
        }
      ]
    },
    {
      "cell_type": "code",
      "source": [
        "from keras.utils import np_utils"
      ],
      "metadata": {
        "id": "M1sG1E3YEodb"
      },
      "execution_count": 21,
      "outputs": []
    },
    {
      "cell_type": "code",
      "source": [
        "Y_train = np_utils.to_categorical(y_train, 2)\n",
        "Y_test = np_utils.to_categorical(y_test, 2)"
      ],
      "metadata": {
        "id": "CTxbtu3iEhSY"
      },
      "execution_count": 22,
      "outputs": []
    },
    {
      "cell_type": "markdown",
      "source": [
        "### Build the MLP model"
      ],
      "metadata": {
        "id": "Zj4IG3QlBqdU"
      }
    },
    {
      "cell_type": "code",
      "source": [
        "from tensorflow.keras.datasets import mnist\n",
        "from tensorflow.keras.models import Sequential\n",
        "from tensorflow.keras.layers import Dense, Dropout, Activation\n",
        "from keras.utils import np_utils"
      ],
      "metadata": {
        "id": "X70LEY2mEwHI"
      },
      "execution_count": 44,
      "outputs": []
    },
    {
      "cell_type": "code",
      "source": [
        "model = Sequential()\n",
        "model.add(Dense(512, input_shape=(262144,)))\n",
        "model.add(Activation('relu')) \n",
        "model.add(Dropout(0.2))   \n",
        "\n",
        "model.add(Dense(512))\n",
        "model.add(Activation('relu'))\n",
        "\n",
        "model.add(Dropout(0.2))\n",
        "model.add(Dense(2))\n",
        "model.add(Activation('softmax'))"
      ],
      "metadata": {
        "id": "Yicgl3G0Es6L"
      },
      "execution_count": 45,
      "outputs": []
    },
    {
      "cell_type": "code",
      "source": [
        "model.summary()"
      ],
      "metadata": {
        "id": "1e7sXY1sEu6b",
        "outputId": "9cb18ea5-868c-448e-df45-afee346dce64",
        "colab": {
          "base_uri": "https://localhost:8080/"
        }
      },
      "execution_count": 46,
      "outputs": [
        {
          "output_type": "stream",
          "name": "stdout",
          "text": [
            "Model: \"sequential_2\"\n",
            "_________________________________________________________________\n",
            " Layer (type)                Output Shape              Param #   \n",
            "=================================================================\n",
            " dense_6 (Dense)             (None, 512)               134218240 \n",
            "                                                                 \n",
            " activation_6 (Activation)   (None, 512)               0         \n",
            "                                                                 \n",
            " dropout_4 (Dropout)         (None, 512)               0         \n",
            "                                                                 \n",
            " dense_7 (Dense)             (None, 512)               262656    \n",
            "                                                                 \n",
            " activation_7 (Activation)   (None, 512)               0         \n",
            "                                                                 \n",
            " dropout_5 (Dropout)         (None, 512)               0         \n",
            "                                                                 \n",
            " dense_8 (Dense)             (None, 2)                 1026      \n",
            "                                                                 \n",
            " activation_8 (Activation)   (None, 2)                 0         \n",
            "                                                                 \n",
            "=================================================================\n",
            "Total params: 134,481,922\n",
            "Trainable params: 134,481,922\n",
            "Non-trainable params: 0\n",
            "_________________________________________________________________\n"
          ]
        }
      ]
    },
    {
      "cell_type": "code",
      "source": [
        "model.compile(loss='categorical_crossentropy', optimizer='adam',metrics=['accuracy'])"
      ],
      "metadata": {
        "id": "ZHwXqaliE49S"
      },
      "execution_count": 47,
      "outputs": []
    },
    {
      "cell_type": "code",
      "source": [
        "history = model.fit(X_train, y_train,\n",
        "          batch_size=100, epochs=30,\n",
        "          verbose=1,\n",
        "          validation_data=(X_test, y_test))"
      ],
      "metadata": {
        "id": "EADtnD7dE8Af",
        "outputId": "d737923b-4cc8-4513-a64f-9e3e94cf060d",
        "colab": {
          "base_uri": "https://localhost:8080/"
        }
      },
      "execution_count": 48,
      "outputs": [
        {
          "output_type": "stream",
          "name": "stdout",
          "text": [
            "Epoch 1/30\n",
            "3/3 [==============================] - 1s 157ms/step - loss: 884.2422 - accuracy: 0.5000 - val_loss: 1202.5734 - val_accuracy: 0.8462\n",
            "Epoch 2/30\n",
            "3/3 [==============================] - 0s 70ms/step - loss: 934.3017 - accuracy: 0.8413 - val_loss: 692.0385 - val_accuracy: 0.8462\n",
            "Epoch 3/30\n",
            "3/3 [==============================] - 0s 66ms/step - loss: 524.1102 - accuracy: 0.8365 - val_loss: 609.4724 - val_accuracy: 0.1538\n",
            "Epoch 4/30\n",
            "3/3 [==============================] - 0s 67ms/step - loss: 300.5848 - accuracy: 0.4471 - val_loss: 178.8150 - val_accuracy: 0.8462\n",
            "Epoch 5/30\n",
            "3/3 [==============================] - 0s 63ms/step - loss: 161.6777 - accuracy: 0.8462 - val_loss: 18.4691 - val_accuracy: 0.8462\n",
            "Epoch 6/30\n",
            "3/3 [==============================] - 0s 62ms/step - loss: 130.0545 - accuracy: 0.6923 - val_loss: 26.3741 - val_accuracy: 0.7308\n",
            "Epoch 7/30\n",
            "3/3 [==============================] - 0s 66ms/step - loss: 110.4831 - accuracy: 0.7548 - val_loss: 117.1019 - val_accuracy: 0.8462\n",
            "Epoch 8/30\n",
            "3/3 [==============================] - 0s 62ms/step - loss: 99.2186 - accuracy: 0.8462 - val_loss: 41.4638 - val_accuracy: 0.6923\n",
            "Epoch 9/30\n",
            "3/3 [==============================] - 0s 64ms/step - loss: 117.7323 - accuracy: 0.6827 - val_loss: 57.3642 - val_accuracy: 0.6731\n",
            "Epoch 10/30\n",
            "3/3 [==============================] - 0s 65ms/step - loss: 103.9108 - accuracy: 0.7308 - val_loss: 72.9840 - val_accuracy: 0.8462\n",
            "Epoch 11/30\n",
            "3/3 [==============================] - 0s 62ms/step - loss: 95.8178 - accuracy: 0.8365 - val_loss: 69.5317 - val_accuracy: 0.6731\n",
            "Epoch 12/30\n",
            "3/3 [==============================] - 0s 63ms/step - loss: 79.0905 - accuracy: 0.7115 - val_loss: 58.7101 - val_accuracy: 0.7115\n",
            "Epoch 13/30\n",
            "3/3 [==============================] - 0s 65ms/step - loss: 67.7383 - accuracy: 0.7500 - val_loss: 63.7678 - val_accuracy: 0.8462\n",
            "Epoch 14/30\n",
            "3/3 [==============================] - 0s 62ms/step - loss: 76.7257 - accuracy: 0.8125 - val_loss: 47.3351 - val_accuracy: 0.8462\n",
            "Epoch 15/30\n",
            "3/3 [==============================] - 0s 62ms/step - loss: 54.8275 - accuracy: 0.8510 - val_loss: 24.8125 - val_accuracy: 0.8077\n",
            "Epoch 16/30\n",
            "3/3 [==============================] - 0s 63ms/step - loss: 36.9265 - accuracy: 0.8365 - val_loss: 19.3507 - val_accuracy: 0.8269\n",
            "Epoch 17/30\n",
            "3/3 [==============================] - 0s 66ms/step - loss: 45.4875 - accuracy: 0.8173 - val_loss: 54.0485 - val_accuracy: 0.8462\n",
            "Epoch 18/30\n",
            "3/3 [==============================] - 0s 63ms/step - loss: 41.1603 - accuracy: 0.8654 - val_loss: 28.3556 - val_accuracy: 0.8462\n",
            "Epoch 19/30\n",
            "3/3 [==============================] - 0s 69ms/step - loss: 42.4423 - accuracy: 0.8365 - val_loss: 40.7600 - val_accuracy: 0.7692\n",
            "Epoch 20/30\n",
            "3/3 [==============================] - 0s 71ms/step - loss: 46.3368 - accuracy: 0.7212 - val_loss: 4.4612 - val_accuracy: 0.9231\n",
            "Epoch 21/30\n",
            "3/3 [==============================] - 0s 63ms/step - loss: 39.3580 - accuracy: 0.8269 - val_loss: 35.9300 - val_accuracy: 0.8462\n",
            "Epoch 22/30\n",
            "3/3 [==============================] - 0s 69ms/step - loss: 29.3915 - accuracy: 0.8510 - val_loss: 8.4488 - val_accuracy: 0.8654\n",
            "Epoch 23/30\n",
            "3/3 [==============================] - 0s 64ms/step - loss: 15.1712 - accuracy: 0.8654 - val_loss: 11.9408 - val_accuracy: 0.7885\n",
            "Epoch 24/30\n",
            "3/3 [==============================] - 0s 66ms/step - loss: 25.0471 - accuracy: 0.8125 - val_loss: 6.0946 - val_accuracy: 0.8654\n",
            "Epoch 25/30\n",
            "3/3 [==============================] - 0s 70ms/step - loss: 19.3568 - accuracy: 0.8558 - val_loss: 20.1236 - val_accuracy: 0.8462\n",
            "Epoch 26/30\n",
            "3/3 [==============================] - 0s 70ms/step - loss: 13.4015 - accuracy: 0.8606 - val_loss: 6.2932 - val_accuracy: 0.8462\n",
            "Epoch 27/30\n",
            "3/3 [==============================] - 0s 67ms/step - loss: 19.7255 - accuracy: 0.7692 - val_loss: 0.8566 - val_accuracy: 0.9423\n",
            "Epoch 28/30\n",
            "3/3 [==============================] - 0s 69ms/step - loss: 10.3470 - accuracy: 0.8798 - val_loss: 12.7259 - val_accuracy: 0.8462\n",
            "Epoch 29/30\n",
            "3/3 [==============================] - 0s 70ms/step - loss: 19.2244 - accuracy: 0.8702 - val_loss: 2.0294 - val_accuracy: 0.9615\n",
            "Epoch 30/30\n",
            "3/3 [==============================] - 0s 63ms/step - loss: 8.6988 - accuracy: 0.8942 - val_loss: 1.7455 - val_accuracy: 0.9615\n"
          ]
        }
      ]
    },
    {
      "cell_type": "markdown",
      "source": [
        "### Evaluate the model "
      ],
      "metadata": {
        "id": "lFCte94hEpNb"
      }
    },
    {
      "cell_type": "code",
      "source": [
        "score = model.evaluate(X_test, y_test,verbose=1)\n",
        "\n",
        "print('Test loss:', score)"
      ],
      "metadata": {
        "id": "15aSNY8TFsPa",
        "outputId": "0814d18f-e9c1-4167-8326-b1c135781ea6",
        "colab": {
          "base_uri": "https://localhost:8080/"
        }
      },
      "execution_count": 49,
      "outputs": [
        {
          "output_type": "stream",
          "name": "stdout",
          "text": [
            "2/2 [==============================] - 0s 11ms/step - loss: 1.7455 - accuracy: 0.9615\n",
            "Test loss: [1.7454912662506104, 0.9615384340286255]\n"
          ]
        }
      ]
    },
    {
      "cell_type": "code",
      "source": [
        "plt.figure(figsize=[8,6])\n",
        "plt.plot(history.history['loss'],'r',linewidth=3.0)\n",
        "plt.plot(history.history['val_loss'],'b',linewidth=3.0)\n",
        "plt.legend(['Training loss', 'Validation Loss'],fontsize=18)\n",
        "plt.xlabel('Epochs ',fontsize=16)\n",
        "plt.ylabel('Loss',fontsize=16)\n",
        "plt.title('Loss Curves',fontsize=16)"
      ],
      "metadata": {
        "id": "aaXRfY39FtSE",
        "outputId": "e65eef12-e72d-4f72-f3d6-99cd3a3733e7",
        "colab": {
          "base_uri": "https://localhost:8080/",
          "height": 428
        }
      },
      "execution_count": 50,
      "outputs": [
        {
          "output_type": "execute_result",
          "data": {
            "text/plain": [
              "Text(0.5, 1.0, 'Loss Curves')"
            ]
          },
          "metadata": {},
          "execution_count": 50
        },
        {
          "output_type": "display_data",
          "data": {
            "text/plain": [
              "<Figure size 576x432 with 1 Axes>"
            ],
            "image/png": "[encoded data removed]"
          },
          "metadata": {
            "needs_background": "light"
          }
        }
      ]
    },
    {
      "cell_type": "code",
      "source": [
        "predicted_classes = model.predict(X_test)\n",
        "#print(predicted_classes)\n",
        "\n",
        "# Check which items we got right / wrong\n",
        "correct_indices = np.nonzero(predicted_classes == y_test)[0]\n",
        "incorrect_indices = np.nonzero(predicted_classes != y_test)[0]\n",
        "\n",
        "print(correct_indices)\n",
        "print(incorrect_indices)"
      ],
      "metadata": {
        "id": "gEo-xmt9GyAJ",
        "outputId": "3c297b9b-50ba-4dff-8b2d-2210062eabe4",
        "colab": {
          "base_uri": "https://localhost:8080/"
        }
      },
      "execution_count": 51,
      "outputs": [
        {
          "output_type": "stream",
          "name": "stdout",
          "text": [
            "[ 0  0  1  1  2  2  3  3  4  4  5  5  6  6  7  8  8 10 10 11 11 12 13 13\n",
            " 14 16 16 17 17 19 19 20 21 21 24 24 25 26 26 27 28 29 29 30 30 31 31 32\n",
            " 33 34 35 35 36 36 37 37 38 38 39 39 40 40 41 42 43 43 44 44 45 46 46 47\n",
            " 47 48 48 49 49 50 50 51 51]\n",
            "[ 7  9  9 12 14 15 15 18 18 20 22 22 23 23 25 27 28 32 33 34 41 42 45]\n"
          ]
        }
      ]
    },
    {
      "cell_type": "code",
      "source": [
        "y_pred = np.argmax(predicted_classes, axis=1)\n",
        "y_test_back = pd.Series(pd.DataFrame(y_test, columns = [0, 1]).columns[np.where(y_test!=0)[1]])\n",
        "np.array(y_test_back)"
      ],
      "metadata": {
        "id": "zrXDN0kUFd89",
        "outputId": "713984a4-c13a-4e9f-e63e-52d5a862ad3e",
        "colab": {
          "base_uri": "https://localhost:8080/"
        }
      },
      "execution_count": 52,
      "outputs": [
        {
          "output_type": "execute_result",
          "data": {
            "text/plain": [
              "array([1, 0, 1, 1, 1, 1, 0, 0, 1, 1, 1, 1, 1, 1, 0, 1, 0, 1, 1, 1, 1, 1,\n",
              "       1, 1, 1, 1, 1, 1, 1, 1, 1, 0, 1, 1, 1, 1, 1, 1, 1, 1, 0, 1, 0, 1,\n",
              "       1, 1, 1, 1, 1, 1, 1, 1])"
            ]
          },
          "metadata": {},
          "execution_count": 52
        }
      ]
    },
    {
      "cell_type": "code",
      "source": [
        "from sklearn.metrics import confusion_matrix\n",
        "cm = confusion_matrix(y_test_back, y_pred)"
      ],
      "metadata": {
        "id": "Dxeukt2oG7ww"
      },
      "execution_count": 53,
      "outputs": []
    },
    {
      "cell_type": "code",
      "source": [
        "cm"
      ],
      "metadata": {
        "id": "qEKXHDvDFgCz",
        "outputId": "5de87d06-105a-4e7a-8850-22dbe237a51c",
        "colab": {
          "base_uri": "https://localhost:8080/"
        }
      },
      "execution_count": 54,
      "outputs": [
        {
          "output_type": "execute_result",
          "data": {
            "text/plain": [
              "array([[ 8,  0],\n",
              "       [ 2, 42]])"
            ]
          },
          "metadata": {},
          "execution_count": 54
        }
      ]
    },
    {
      "cell_type": "code",
      "source": [
        ""
      ],
      "metadata": {
        "id": "lHBIQwIOF-xf"
      },
      "execution_count": null,
      "outputs": []
    }
  ]
}