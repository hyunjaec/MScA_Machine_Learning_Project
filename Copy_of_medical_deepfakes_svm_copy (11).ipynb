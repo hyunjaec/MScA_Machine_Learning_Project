{
  "cells": [
    {
      "cell_type": "markdown",
      "metadata": {
        "id": "view-in-github"
      },
      "source": [
        "<a href=\"https://colab.research.google.com/github/hyunjaec/MScA_Machine_Learning_Project/blob/main/medical_deepfakes_svm.ipynb\" target=\"_parent\"><img src=\"https://colab.research.google.com/assets/colab-badge.svg\" alt=\"Open In Colab\"/></a>"
      ]
    },
    {
      "cell_type": "code",
      "execution_count": 63,
      "metadata": {
        "id": "GjCTID7ea9fx"
      },
      "outputs": [],
      "source": [
        "import pandas as pd \n",
        "import numpy as np \n",
        "import os \n",
        "import seaborn as sns\n",
        "try:\n",
        "  import pydicom\n",
        "except:\n",
        "  ! pip install pydicom\n",
        "  import pydicom\n",
        "import scipy.ndimage"
      ]
    },
    {
      "cell_type": "code",
      "execution_count": 64,
      "metadata": {
        "id": "UhpK6XXdayjh",
        "colab": {
          "base_uri": "https://localhost:8080/"
        },
        "outputId": "6887e847-eb75-4867-98dc-e6f83f7ac440"
      },
      "outputs": [
        {
          "output_type": "stream",
          "name": "stdout",
          "text": [
            "Drive already mounted at /content/drive; to attempt to forcibly remount, call drive.mount(\"/content/drive\", force_remount=True).\n"
          ]
        }
      ],
      "source": [
        "from google.colab import drive\n",
        "drive.mount('/content/drive')"
      ]
    },
    {
      "cell_type": "markdown",
      "source": [
        "Load dicom files\n"
      ],
      "metadata": {
        "id": "WzpD4G9J4EMc"
      }
    },
    {
      "cell_type": "code",
      "execution_count": 65,
      "metadata": {
        "id": "l4MZgRxGbIz4"
      },
      "outputs": [],
      "source": [
        "def load_dicom(path2scan_dir):\n",
        "    dicom_folder = path2scan_dir\n",
        "    dcms = os.listdir(dicom_folder)\n",
        "    first_slice_data = pydicom.read_file(os.path.join(path2scan_dir,dcms[0]))\n",
        "    first_slice = first_slice_data.pixel_array\n",
        "    orientation = np.transpose(first_slice_data.ImageOrientationPatient) #zyx format\n",
        "    spacing_xy = np.array(first_slice_data.PixelSpacing, dtype=float)\n",
        "    spacing_z = np.float(first_slice_data.SliceThickness)\n",
        "    spacing = np.array([spacing_z, spacing_xy[1], spacing_xy[0]]) #zyx format\n",
        "\n",
        "    scan = np.zeros((len(dcms),first_slice.shape[0],first_slice.shape[1]))\n",
        "    raw_slices=[]\n",
        "    indexes = []\n",
        "    for dcm in dcms:\n",
        "        slice_data = pydicom.read_file(os.path.join(dicom_folder,dcm))\n",
        "        slice_data.filename = dcm\n",
        "        raw_slices.append(slice_data)\n",
        "        indexes.append(float(slice_data.ImagePositionPatient[2]))\n",
        "    indexes = np.array(indexes,dtype=float)\n",
        "\n",
        "    raw_slices = [x for _, x in sorted(zip(indexes, raw_slices))]\n",
        "    origin = np.array(raw_slices[0][0x00200032].value) #origin is assumed to be the image location of the first slice\n",
        "    if origin is None:\n",
        "        origin = np.zeros(3)\n",
        "    else:\n",
        "        origin = np.array([origin[2],origin[1],origin[0]]) #change from x,y,z to z,y,x\n",
        "\n",
        "    for i, slice in enumerate(raw_slices):\n",
        "        scan[i, :, :] = slice.pixel_array\n",
        "    return scan, spacing, orientation, origin, raw_slices"
      ]
    },
    {
      "cell_type": "code",
      "execution_count": 66,
      "metadata": {
        "id": "vGsmqYTwcGZ1"
      },
      "outputs": [],
      "source": [
        "#df = pd.read_csv('/content/drive/My Drive/data/Tampered Scans/labels_exp1.csv')  \n"
      ]
    },
    {
      "cell_type": "markdown",
      "metadata": {
        "id": "4H8uwf2RLX1M"
      },
      "source": [
        "Load the label files and cut and save images by coordinates\n"
      ]
    },
    {
      "cell_type": "code",
      "execution_count": 67,
      "metadata": {
        "id": "WdsVYBl-cNHQ"
      },
      "outputs": [],
      "source": [
        "def cutCube(X, center, shape, padd=0): #center is a 3d coord (zyx)\n",
        "    center = center.astype(int)\n",
        "    hlz = np.round(shape[0] / 2)\n",
        "    hly = np.round(shape[1] / 2)\n",
        "    hlx = np.round(shape[2] / 2)\n",
        "\n",
        "    #add padding if out of bounds\n",
        "    if ((center - np.array([hlz,hly,hlx])) < 0).any() or (\n",
        "        (center + np.array([hlz,hly,hlx]) + 1) > np.array(X.shape)).any():  # if cropping is out of bounds, add padding\n",
        "        try:\n",
        "          np.ones(np.array(X.shape) + shape * 2)\n",
        "        except:\n",
        "          return \"No\"\n",
        "        Xn = np.ones(np.array(X.shape) + shape * 2) * padd\n",
        "        Xn[shape[0]:(shape[0] + X.shape[0]), shape[1]:(shape[1] + X.shape[1]), shape[2]:(shape[2] + X.shape[2])] = X\n",
        "        centern = center + shape\n",
        "        cube = Xn[int(centern[0] - hlz):int(centern[0] - hlz + shape[0]),\n",
        "               int(centern[1] - hly):int(centern[1] - hly + shape[1]),\n",
        "               int(centern[2] - hlx):int(centern[2] - hlx + shape[2])]\n",
        "        return np.copy(cube)\n",
        "    else:\n",
        "        cube = X[int(center[0] - hlz):int(center[0] - hlz + shape[0]), int(center[1] - hly):int(center[1] - hly + shape[1]),\n",
        "               int(center[2] - hlx):int(center[2] - hlx + shape[2])]\n",
        "        return np.copy(cube)\n"
      ]
    },
    {
      "cell_type": "code",
      "execution_count": 68,
      "metadata": {
        "id": "G8KA-d-BlJ32"
      },
      "outputs": [],
      "source": [
        "import os\n",
        "dir = \"/content/drive/My Drive/data/Tampered Scans/Experiment 1 - Blind/\" \n",
        "r=[]\n",
        "for root, dirs, files in os.walk(dir):\n",
        "  r.append(root)"
      ]
    },
    {
      "cell_type": "code",
      "execution_count": 69,
      "metadata": {
        "id": "r_Jb7FvcLmHI",
        "colab": {
          "base_uri": "https://localhost:8080/",
          "height": 206
        },
        "outputId": "4f063191-c38c-4b81-83a1-7048b872af76"
      },
      "outputs": [
        {
          "output_type": "execute_result",
          "data": {
            "text/plain": [
              "  type  uuid  slice    x    y  detected  detected_diam  label\n",
              "0   FB  1280    100  323  381     False            0.0   True\n",
              "1   FB  1009     76  354  288     False            0.0   True\n",
              "2   FB  7794     79  163  191     False            0.0   True\n",
              "3   FB  7794     94  338  243     False            0.0   True\n",
              "4   FB  2997     45  156  135     False            0.0   True"
            ],
            "text/html": [
              "\n",
              "  <div id=\"df-429b9b9c-cc25-4e31-925d-8a170c2b9554\">\n",
              "    <div class=\"colab-df-container\">\n",
              "      <div>\n",
              "<style scoped>\n",
              "    .dataframe tbody tr th:only-of-type {\n",
              "        vertical-align: middle;\n",
              "    }\n",
              "\n",
              "    .dataframe tbody tr th {\n",
              "        vertical-align: top;\n",
              "    }\n",
              "\n",
              "    .dataframe thead th {\n",
              "        text-align: right;\n",
              "    }\n",
              "</style>\n",
              "<table border=\"1\" class=\"dataframe\">\n",
              "  <thead>\n",
              "    <tr style=\"text-align: right;\">\n",
              "      <th></th>\n",
              "      <th>type</th>\n",
              "      <th>uuid</th>\n",
              "      <th>slice</th>\n",
              "      <th>x</th>\n",
              "      <th>y</th>\n",
              "      <th>detected</th>\n",
              "      <th>detected_diam</th>\n",
              "      <th>label</th>\n",
              "    </tr>\n",
              "  </thead>\n",
              "  <tbody>\n",
              "    <tr>\n",
              "      <th>0</th>\n",
              "      <td>FB</td>\n",
              "      <td>1280</td>\n",
              "      <td>100</td>\n",
              "      <td>323</td>\n",
              "      <td>381</td>\n",
              "      <td>False</td>\n",
              "      <td>0.0</td>\n",
              "      <td>True</td>\n",
              "    </tr>\n",
              "    <tr>\n",
              "      <th>1</th>\n",
              "      <td>FB</td>\n",
              "      <td>1009</td>\n",
              "      <td>76</td>\n",
              "      <td>354</td>\n",
              "      <td>288</td>\n",
              "      <td>False</td>\n",
              "      <td>0.0</td>\n",
              "      <td>True</td>\n",
              "    </tr>\n",
              "    <tr>\n",
              "      <th>2</th>\n",
              "      <td>FB</td>\n",
              "      <td>7794</td>\n",
              "      <td>79</td>\n",
              "      <td>163</td>\n",
              "      <td>191</td>\n",
              "      <td>False</td>\n",
              "      <td>0.0</td>\n",
              "      <td>True</td>\n",
              "    </tr>\n",
              "    <tr>\n",
              "      <th>3</th>\n",
              "      <td>FB</td>\n",
              "      <td>7794</td>\n",
              "      <td>94</td>\n",
              "      <td>338</td>\n",
              "      <td>243</td>\n",
              "      <td>False</td>\n",
              "      <td>0.0</td>\n",
              "      <td>True</td>\n",
              "    </tr>\n",
              "    <tr>\n",
              "      <th>4</th>\n",
              "      <td>FB</td>\n",
              "      <td>2997</td>\n",
              "      <td>45</td>\n",
              "      <td>156</td>\n",
              "      <td>135</td>\n",
              "      <td>False</td>\n",
              "      <td>0.0</td>\n",
              "      <td>True</td>\n",
              "    </tr>\n",
              "  </tbody>\n",
              "</table>\n",
              "</div>\n",
              "      <button class=\"colab-df-convert\" onclick=\"convertToInteractive('df-429b9b9c-cc25-4e31-925d-8a170c2b9554')\"\n",
              "              title=\"Convert this dataframe to an interactive table.\"\n",
              "              style=\"display:none;\">\n",
              "        \n",
              "  <svg xmlns=\"http://www.w3.org/2000/svg\" height=\"24px\"viewBox=\"0 0 24 24\"\n",
              "       width=\"24px\">\n",
              "    <path d=\"M0 0h24v24H0V0z\" fill=\"none\"/>\n",
              "    <path d=\"M18.56 5.44l.94 2.06.94-2.06 2.06-.94-2.06-.94-.94-2.06-.94 2.06-2.06.94zm-11 1L8.5 8.5l.94-2.06 2.06-.94-2.06-.94L8.5 2.5l-.94 2.06-2.06.94zm10 10l.94 2.06.94-2.06 2.06-.94-2.06-.94-.94-2.06-.94 2.06-2.06.94z\"/><path d=\"M17.41 7.96l-1.37-1.37c-.4-.4-.92-.59-1.43-.59-.52 0-1.04.2-1.43.59L10.3 9.45l-7.72 7.72c-.78.78-.78 2.05 0 2.83L4 21.41c.39.39.9.59 1.41.59.51 0 1.02-.2 1.41-.59l7.78-7.78 2.81-2.81c.8-.78.8-2.07 0-2.86zM5.41 20L4 18.59l7.72-7.72 1.47 1.35L5.41 20z\"/>\n",
              "  </svg>\n",
              "      </button>\n",
              "      \n",
              "  <style>\n",
              "    .colab-df-container {\n",
              "      display:flex;\n",
              "      flex-wrap:wrap;\n",
              "      gap: 12px;\n",
              "    }\n",
              "\n",
              "    .colab-df-convert {\n",
              "      background-color: #E8F0FE;\n",
              "      border: none;\n",
              "      border-radius: 50%;\n",
              "      cursor: pointer;\n",
              "      display: none;\n",
              "      fill: #1967D2;\n",
              "      height: 32px;\n",
              "      padding: 0 0 0 0;\n",
              "      width: 32px;\n",
              "    }\n",
              "\n",
              "    .colab-df-convert:hover {\n",
              "      background-color: #E2EBFA;\n",
              "      box-shadow: 0px 1px 2px rgba(60, 64, 67, 0.3), 0px 1px 3px 1px rgba(60, 64, 67, 0.15);\n",
              "      fill: #174EA6;\n",
              "    }\n",
              "\n",
              "    [theme=dark] .colab-df-convert {\n",
              "      background-color: #3B4455;\n",
              "      fill: #D2E3FC;\n",
              "    }\n",
              "\n",
              "    [theme=dark] .colab-df-convert:hover {\n",
              "      background-color: #434B5C;\n",
              "      box-shadow: 0px 1px 3px 1px rgba(0, 0, 0, 0.15);\n",
              "      filter: drop-shadow(0px 1px 2px rgba(0, 0, 0, 0.3));\n",
              "      fill: #FFFFFF;\n",
              "    }\n",
              "  </style>\n",
              "\n",
              "      <script>\n",
              "        const buttonEl =\n",
              "          document.querySelector('#df-429b9b9c-cc25-4e31-925d-8a170c2b9554 button.colab-df-convert');\n",
              "        buttonEl.style.display =\n",
              "          google.colab.kernel.accessAllowed ? 'block' : 'none';\n",
              "\n",
              "        async function convertToInteractive(key) {\n",
              "          const element = document.querySelector('#df-429b9b9c-cc25-4e31-925d-8a170c2b9554');\n",
              "          const dataTable =\n",
              "            await google.colab.kernel.invokeFunction('convertToInteractive',\n",
              "                                                     [key], {});\n",
              "          if (!dataTable) return;\n",
              "\n",
              "          const docLinkHtml = 'Like what you see? Visit the ' +\n",
              "            '<a target=\"_blank\" href=https://colab.research.google.com/notebooks/data_table.ipynb>data table notebook</a>'\n",
              "            + ' to learn more about interactive tables.';\n",
              "          element.innerHTML = '';\n",
              "          dataTable['output_type'] = 'display_data';\n",
              "          await google.colab.output.renderOutput(dataTable, element);\n",
              "          const docLink = document.createElement('div');\n",
              "          docLink.innerHTML = docLinkHtml;\n",
              "          element.appendChild(docLink);\n",
              "        }\n",
              "      </script>\n",
              "    </div>\n",
              "  </div>\n",
              "  "
            ]
          },
          "metadata": {},
          "execution_count": 69
        }
      ],
      "source": [
        "#Load label files\n",
        "label_df1 = pd.read_csv('/content/drive/My Drive/data/Results/Response EXP1 - Reviewer 1_instances.csv') \n",
        "label_df2 = pd.read_csv('/content/drive/My Drive/data/Results/Response EXP1 - Reviewer 2_instances.csv')\n",
        "label_df3 = pd.read_csv('/content/drive/My Drive/data/Results/Response EXP1 - Reviewer 3_instances.csv')\n",
        "\n",
        "preds = pd.concat([label_df1[['label']], label_df2[['label']], label_df3[['label']]], axis = 1)\n",
        "preds.columns = ['label1','label2','label3']\n",
        "\n",
        "def final_label(row):\n",
        "  row.label1 = int(row.label1)\n",
        "  row.label2 = int(row.label2)\n",
        "  row.label3 = int(row.label3)\n",
        "  if row.label1 == 0:\n",
        "        row.label1 == -1\n",
        "  if row.label2 == 0:\n",
        "        row.label2 == -1\n",
        "  if row.label3 == 0:\n",
        "        row.label3 == -1\n",
        "  if row.label1 == row.label2 == row.label3:\n",
        "    return bool(row.label1)\n",
        "  else:\n",
        "    return bool(np.sign((row.label1*row.confidence1 + row.label1*row.confidence2 + row.label1*row.confidence3) / 3))\n",
        "\n",
        "preds['label'] = preds.apply(lambda row: final_label(row), axis = 1)\n",
        "label_df = pd.concat([label_df1.drop('label', axis = 1), preds['label']], axis = 1)\n",
        "label_df.head()"
      ]
    },
    {
      "cell_type": "code",
      "execution_count": 70,
      "metadata": {
        "id": "19HkTZtcwvQa"
      },
      "outputs": [],
      "source": [
        "df_true = label_df.loc[label_df['label']==True]\n",
        "df_false = label_df.loc[label_df['label']==False]"
      ]
    },
    {
      "cell_type": "code",
      "execution_count": 71,
      "metadata": {
        "id": "hpfKjEaH53Oj"
      },
      "outputs": [],
      "source": [
        "df_true = df_true.reset_index()\n",
        "df_false = df_false.reset_index()"
      ]
    },
    {
      "cell_type": "code",
      "execution_count": 72,
      "metadata": {
        "id": "kcEebwwlnxcT"
      },
      "outputs": [],
      "source": [
        "def image_cut_processing(df):\n",
        "  cut_cubes = []\n",
        "  for i in range(0,len(df)):\n",
        "    scan, spacing, orientation, origin, raw_slices = load_dicom('/content/drive/My Drive/data/Tampered Scans/Experiment 1 - Blind/'+str(df.uuid[i]))\n",
        "    uuid_row = df.loc[df['uuid'] == df.uuid[i]]\n",
        "    for j in range(len(uuid_row)):\n",
        "      location = uuid_row.iloc[j]\n",
        "      coord = np.array([location['slice'],location['y'],location['x']])\n",
        "      if (cutCube(scan,coord,(64,64,64))) != \"No\":\n",
        "        cut_cubes.append(cutCube(scan,coord,(64,64,64)))\n",
        "  return cut_cubes\n",
        "  "
      ]
    },
    {
      "cell_type": "code",
      "execution_count": 73,
      "metadata": {
        "id": "PYK_F6HcoLnl",
        "colab": {
          "base_uri": "https://localhost:8080/"
        },
        "outputId": "b91d9e56-32a3-46d0-dfe9-becf84a8b76f"
      },
      "outputs": [
        {
          "output_type": "stream",
          "name": "stderr",
          "text": [
            "/usr/local/lib/python3.7/dist-packages/ipykernel_launcher.py:8: DeprecationWarning: `np.float` is a deprecated alias for the builtin `float`. To silence this warning, use `float` by itself. Doing this will not modify any behavior and is safe. If you specifically wanted the numpy scalar type, use `np.float64` here.\n",
            "Deprecated in NumPy 1.20; for more details and guidance: https://numpy.org/devdocs/release/1.20.0-notes.html#deprecations\n",
            "  \n",
            "/usr/local/lib/python3.7/dist-packages/ipykernel_launcher.py:9: FutureWarning: elementwise comparison failed; returning scalar instead, but in the future will perform elementwise comparison\n",
            "  if __name__ == '__main__':\n"
          ]
        }
      ],
      "source": [
        "true_cut_images = image_cut_processing(df_true)"
      ]
    },
    {
      "cell_type": "code",
      "execution_count": 74,
      "metadata": {
        "id": "1Ot2CgXep7ym",
        "colab": {
          "base_uri": "https://localhost:8080/"
        },
        "outputId": "82f79cb5-47d9-41b9-b15c-8e201a69df53"
      },
      "outputs": [
        {
          "output_type": "stream",
          "name": "stderr",
          "text": [
            "/usr/local/lib/python3.7/dist-packages/ipykernel_launcher.py:8: DeprecationWarning: `np.float` is a deprecated alias for the builtin `float`. To silence this warning, use `float` by itself. Doing this will not modify any behavior and is safe. If you specifically wanted the numpy scalar type, use `np.float64` here.\n",
            "Deprecated in NumPy 1.20; for more details and guidance: https://numpy.org/devdocs/release/1.20.0-notes.html#deprecations\n",
            "  \n",
            "/usr/local/lib/python3.7/dist-packages/ipykernel_launcher.py:9: FutureWarning: elementwise comparison failed; returning scalar instead, but in the future will perform elementwise comparison\n",
            "  if __name__ == '__main__':\n"
          ]
        }
      ],
      "source": [
        "false_cut_images = image_cut_processing(df_false)"
      ]
    },
    {
      "cell_type": "code",
      "execution_count": 75,
      "metadata": {
        "id": "upSzCBDd-lXj"
      },
      "outputs": [],
      "source": [
        "list1 = [True for i in range(len(true_cut_images))]\n",
        "list2 = [False for i in range(len(false_cut_images))]\n",
        "y = list1+list2\n",
        "y = np.array(y)"
      ]
    },
    {
      "cell_type": "code",
      "execution_count": 76,
      "metadata": {
        "id": "DE4kdHPPTbrC"
      },
      "outputs": [],
      "source": [
        "X = true_cut_images + false_cut_images\n",
        "y = pd.get_dummies(y)"
      ]
    },
    {
      "cell_type": "code",
      "execution_count": 77,
      "metadata": {
        "id": "0pgd61PXJC--",
        "colab": {
          "base_uri": "https://localhost:8080/"
        },
        "outputId": "2a3a87fc-5c87-438f-91cb-bfed706e2f2a"
      },
      "outputs": [
        {
          "output_type": "execute_result",
          "data": {
            "text/plain": [
              "(260, 260)"
            ]
          },
          "metadata": {},
          "execution_count": 77
        }
      ],
      "source": [
        "len(X), len(y)"
      ]
    },
    {
      "cell_type": "code",
      "execution_count": 78,
      "metadata": {
        "id": "hVPCewBkQd15"
      },
      "outputs": [],
      "source": [
        "y['label'] = (y[True] == 1).astype(int)"
      ]
    },
    {
      "cell_type": "code",
      "execution_count": 79,
      "metadata": {
        "id": "gMSZ1VIb96ES"
      },
      "outputs": [],
      "source": [
        "from sklearn.model_selection import train_test_split\n",
        "\n",
        "X_train, X_test, y_train, y_test = train_test_split(X, y['label'], test_size=.2)"
      ]
    },
    {
      "cell_type": "code",
      "execution_count": 80,
      "metadata": {
        "id": "lhbUNcU8A1Mn"
      },
      "outputs": [],
      "source": [
        "X_train = np.array(X_train)\n",
        "X_test = np.array(X_test)\n",
        "y_train = np.array(y_train)\n",
        "y_test = np.array(y_test)"
      ]
    },
    {
      "cell_type": "code",
      "execution_count": 81,
      "metadata": {
        "id": "FT8GLjFVSpm0",
        "colab": {
          "base_uri": "https://localhost:8080/"
        },
        "outputId": "0fece606-1395-4990-ff10-6179072361c5"
      },
      "outputs": [
        {
          "output_type": "execute_result",
          "data": {
            "text/plain": [
              "208"
            ]
          },
          "metadata": {},
          "execution_count": 81
        }
      ],
      "source": [
        "len(y_train)"
      ]
    },
    {
      "cell_type": "code",
      "execution_count": 82,
      "metadata": {
        "id": "eVrb7pygHXO2",
        "colab": {
          "base_uri": "https://localhost:8080/"
        },
        "outputId": "c4112221-6415-4aef-f5eb-8e6def5baa96"
      },
      "outputs": [
        {
          "output_type": "execute_result",
          "data": {
            "text/plain": [
              "((64, 64, 64), ())"
            ]
          },
          "metadata": {},
          "execution_count": 82
        }
      ],
      "source": [
        "X_test[8].shape, y_train[8].shape"
      ]
    },
    {
      "cell_type": "code",
      "execution_count": 83,
      "metadata": {
        "id": "CTuMcmJZQKbC",
        "colab": {
          "base_uri": "https://localhost:8080/"
        },
        "outputId": "33a64940-dbf7-4f90-890d-13ef115fc2c2"
      },
      "outputs": [
        {
          "output_type": "execute_result",
          "data": {
            "text/plain": [
              "(208, 64, 64, 64)"
            ]
          },
          "metadata": {},
          "execution_count": 83
        }
      ],
      "source": [
        "X_train.shape"
      ]
    },
    {
      "cell_type": "code",
      "execution_count": 92,
      "metadata": {
        "id": "1PFUpQzb6xZY",
        "colab": {
          "base_uri": "https://localhost:8080/"
        },
        "outputId": "348b9a08-4029-44f3-d224-c149bd8d48a9"
      },
      "outputs": [
        {
          "output_type": "stream",
          "name": "stdout",
          "text": [
            "Model: \"sequential_5\"\n",
            "_________________________________________________________________\n",
            " Layer (type)                Output Shape              Param #   \n",
            "=================================================================\n",
            " flatten_5 (Flatten)         (None, 262144)            0         \n",
            "                                                                 \n",
            " dense_15 (Dense)            (None, 100)               26214500  \n",
            "                                                                 \n",
            " dropout_2 (Dropout)         (None, 100)               0         \n",
            "                                                                 \n",
            " dense_16 (Dense)            (None, 50)                5050      \n",
            "                                                                 \n",
            " dense_17 (Dense)            (None, 1)                 51        \n",
            "                                                                 \n",
            "=================================================================\n",
            "Total params: 26,219,601\n",
            "Trainable params: 26,219,601\n",
            "Non-trainable params: 0\n",
            "_________________________________________________________________\n"
          ]
        }
      ],
      "source": [
        "# Training the model with best hyperparamters\n",
        "from keras.models import Sequential\n",
        "from keras.layers import Dense, Activation, Flatten,Dropout\n",
        "classifier = Sequential()\n",
        "classifier.add(Flatten(input_shape=[64, 64, 64]))\n",
        "classifier.add(Dense(units=100,kernel_initializer='uniform', activation='relu'))\n",
        "classifier.add(Dropout(0.2))   \n",
        "classifier.add(Dense(units=50,kernel_initializer='uniform', activation='relu'))\n",
        "#classifier.add(Dropout(0.2))   \n",
        "classifier.add(Dense(units=1,kernel_initializer='uniform',  activation='sigmoid'))\n",
        "classifier.compile(optimizer='adam', loss='binary_crossentropy', metrics=['accuracy'])\n",
        "classifier.summary()"
      ]
    },
    {
      "cell_type": "code",
      "execution_count": 93,
      "metadata": {
        "id": "SwYnpCRU6xbn",
        "colab": {
          "base_uri": "https://localhost:8080/"
        },
        "outputId": "eb63a810-7f9b-4219-90a7-0d90dd7f9a35"
      },
      "outputs": [
        {
          "output_type": "stream",
          "name": "stdout",
          "text": [
            "Epoch 1/30\n",
            "3/3 [==============================] - 2s 450ms/step - loss: 1123.8867 - accuracy: 0.5865 - val_loss: 162.4128 - val_accuracy: 0.4808\n",
            "Epoch 2/30\n",
            "3/3 [==============================] - 1s 326ms/step - loss: 630.9124 - accuracy: 0.5192 - val_loss: 84.3369 - val_accuracy: 0.8654\n",
            "Epoch 3/30\n",
            "3/3 [==============================] - 1s 324ms/step - loss: 332.2055 - accuracy: 0.7644 - val_loss: 22.2068 - val_accuracy: 0.8269\n",
            "Epoch 4/30\n",
            "3/3 [==============================] - 1s 321ms/step - loss: 257.5826 - accuracy: 0.7067 - val_loss: 145.4449 - val_accuracy: 0.8654\n",
            "Epoch 5/30\n",
            "3/3 [==============================] - 1s 316ms/step - loss: 379.4393 - accuracy: 0.8077 - val_loss: 215.9187 - val_accuracy: 0.8654\n",
            "Epoch 6/30\n",
            "3/3 [==============================] - 1s 331ms/step - loss: 418.8735 - accuracy: 0.7788 - val_loss: 13.9703 - val_accuracy: 0.9038\n",
            "Epoch 7/30\n",
            "3/3 [==============================] - 1s 321ms/step - loss: 209.7847 - accuracy: 0.7548 - val_loss: 75.6128 - val_accuracy: 0.8654\n",
            "Epoch 8/30\n",
            "3/3 [==============================] - 1s 324ms/step - loss: 188.9851 - accuracy: 0.7212 - val_loss: 125.7631 - val_accuracy: 0.8654\n",
            "Epoch 9/30\n",
            "3/3 [==============================] - 1s 319ms/step - loss: 264.1341 - accuracy: 0.7933 - val_loss: 77.1476 - val_accuracy: 0.8654\n",
            "Epoch 10/30\n",
            "3/3 [==============================] - 1s 322ms/step - loss: 193.4638 - accuracy: 0.7933 - val_loss: 27.0017 - val_accuracy: 0.8462\n",
            "Epoch 11/30\n",
            "3/3 [==============================] - 1s 318ms/step - loss: 174.4756 - accuracy: 0.6875 - val_loss: 44.8157 - val_accuracy: 0.8077\n",
            "Epoch 12/30\n",
            "3/3 [==============================] - 1s 321ms/step - loss: 158.1516 - accuracy: 0.7356 - val_loss: 61.8037 - val_accuracy: 0.8462\n",
            "Epoch 13/30\n",
            "3/3 [==============================] - 1s 318ms/step - loss: 112.8015 - accuracy: 0.7356 - val_loss: 275.9828 - val_accuracy: 0.1923\n",
            "Epoch 14/30\n",
            "3/3 [==============================] - 1s 328ms/step - loss: 192.0575 - accuracy: 0.5769 - val_loss: 187.5050 - val_accuracy: 0.8654\n",
            "Epoch 15/30\n",
            "3/3 [==============================] - 1s 320ms/step - loss: 303.2760 - accuracy: 0.7788 - val_loss: 196.5131 - val_accuracy: 0.8654\n",
            "Epoch 16/30\n",
            "3/3 [==============================] - 1s 320ms/step - loss: 241.7287 - accuracy: 0.7933 - val_loss: 136.1627 - val_accuracy: 0.2115\n",
            "Epoch 17/30\n",
            "3/3 [==============================] - 1s 319ms/step - loss: 199.7536 - accuracy: 0.4808 - val_loss: 90.6562 - val_accuracy: 0.5000\n",
            "Epoch 18/30\n",
            "3/3 [==============================] - 1s 317ms/step - loss: 107.2361 - accuracy: 0.7212 - val_loss: 58.0471 - val_accuracy: 0.8654\n",
            "Epoch 19/30\n",
            "3/3 [==============================] - 1s 313ms/step - loss: 122.8739 - accuracy: 0.8413 - val_loss: 50.3471 - val_accuracy: 0.8654\n",
            "Epoch 20/30\n",
            "3/3 [==============================] - 1s 313ms/step - loss: 105.4258 - accuracy: 0.7933 - val_loss: 16.9946 - val_accuracy: 0.8654\n",
            "Epoch 21/30\n",
            "3/3 [==============================] - 1s 315ms/step - loss: 47.1057 - accuracy: 0.7740 - val_loss: 3.9197 - val_accuracy: 0.8846\n",
            "Epoch 22/30\n",
            "3/3 [==============================] - 1s 318ms/step - loss: 60.1342 - accuracy: 0.7019 - val_loss: 3.6645 - val_accuracy: 0.8269\n",
            "Epoch 23/30\n",
            "3/3 [==============================] - 1s 317ms/step - loss: 30.7304 - accuracy: 0.7163 - val_loss: 14.5266 - val_accuracy: 0.8654\n",
            "Epoch 24/30\n",
            "3/3 [==============================] - 1s 312ms/step - loss: 25.6530 - accuracy: 0.8269 - val_loss: 33.3169 - val_accuracy: 0.8654\n",
            "Epoch 25/30\n",
            "3/3 [==============================] - 1s 320ms/step - loss: 53.9372 - accuracy: 0.8317 - val_loss: 27.0583 - val_accuracy: 0.8654\n",
            "Epoch 26/30\n",
            "3/3 [==============================] - 1s 321ms/step - loss: 47.5593 - accuracy: 0.7837 - val_loss: 7.3841 - val_accuracy: 0.6923\n",
            "Epoch 27/30\n",
            "3/3 [==============================] - 1s 324ms/step - loss: 38.0084 - accuracy: 0.6490 - val_loss: 7.2970 - val_accuracy: 0.6731\n",
            "Epoch 28/30\n",
            "3/3 [==============================] - 1s 321ms/step - loss: 30.7424 - accuracy: 0.6923 - val_loss: 15.1493 - val_accuracy: 0.8654\n",
            "Epoch 29/30\n",
            "3/3 [==============================] - 1s 334ms/step - loss: 28.1634 - accuracy: 0.8413 - val_loss: 17.2321 - val_accuracy: 0.8654\n",
            "Epoch 30/30\n",
            "3/3 [==============================] - 1s 304ms/step - loss: 26.5730 - accuracy: 0.8173 - val_loss: 11.4257 - val_accuracy: 0.8654\n"
          ]
        }
      ],
      "source": [
        "history = classifier.fit(X_train, y_train,\n",
        "          batch_size=100, epochs=30,\n",
        "          verbose=1,\n",
        "          validation_data=(X_test, y_test))"
      ]
    },
    {
      "cell_type": "markdown",
      "metadata": {
        "id": "hGB6VF-Z1-54"
      },
      "source": [
        "Evaluate the model\n"
      ]
    },
    {
      "cell_type": "code",
      "execution_count": 94,
      "metadata": {
        "id": "MgK72TgKsnc2",
        "colab": {
          "base_uri": "https://localhost:8080/"
        },
        "outputId": "1332a5e5-5274-4c3f-ccaf-d3a21ede144f"
      },
      "outputs": [
        {
          "output_type": "stream",
          "name": "stdout",
          "text": [
            "2/2 [==============================] - 0s 45ms/step - loss: 11.4257 - accuracy: 0.8654\n"
          ]
        },
        {
          "output_type": "execute_result",
          "data": {
            "text/plain": [
              "[11.425663948059082, 0.8653846383094788]"
            ]
          },
          "metadata": {},
          "execution_count": 94
        }
      ],
      "source": [
        "classifier.evaluate(X_test, y_test, verbose=1)\n"
      ]
    },
    {
      "cell_type": "markdown",
      "source": [
        ""
      ],
      "metadata": {
        "id": "ElpwTBHFep4g"
      }
    },
    {
      "cell_type": "code",
      "execution_count": 95,
      "metadata": {
        "id": "3Q8V1YpGpULF",
        "colab": {
          "base_uri": "https://localhost:8080/",
          "height": 418
        },
        "outputId": "269210fb-12cc-4bbd-f9fd-28cfe58006da"
      },
      "outputs": [
        {
          "output_type": "execute_result",
          "data": {
            "text/plain": [
              "Text(0.5, 1.0, 'Loss Curves')"
            ]
          },
          "metadata": {},
          "execution_count": 95
        },
        {
          "output_type": "display_data",
          "data": {
            "text/plain": [
              "<Figure size 576x432 with 1 Axes>"
            ],
            "image/png": "[encoded data removed]"
          },
          "metadata": {
            "needs_background": "light"
          }
        }
      ],
      "source": [
        "import matplotlib.pyplot as plt\n",
        "plt.figure(figsize=[8,6])\n",
        "plt.plot(history.history['loss'],'r',linewidth=3.0)\n",
        "plt.plot(history.history['val_loss'],'b',linewidth=3.0)\n",
        "plt.legend(['Training loss', 'Validation Loss'],fontsize=18)\n",
        "plt.xlabel('Epochs ',fontsize=16)\n",
        "plt.ylabel('Loss',fontsize=16)\n",
        "plt.title('Loss Curves',fontsize=1)\n"
      ]
    }
  ],
  "metadata": {
    "accelerator": "TPU",
    "colab": {
      "collapsed_sections": [],
      "machine_shape": "hm",
      "name": "Copy of medical_deepfakes_svm copy.ipynb",
      "provenance": []
    },
    "kernelspec": {
      "display_name": "Python 3",
      "name": "python3"
    },
    "language_info": {
      "name": "python"
    }
  },
  "nbformat": 4,
  "nbformat_minor": 0
}